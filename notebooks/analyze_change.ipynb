{
 "cells": [
  {
   "cell_type": "code",
   "execution_count": null,
   "id": "6c2f995d-1ecd-4896-8ec3-30f7842b5811",
   "metadata": {},
   "outputs": [],
   "source": [
    "import cv2\n",
    "import sys\n",
    "\n",
    "import pickle\n",
    "import pandas as pd\n",
    "\n",
    "import plotly.express as px\n",
    "\n",
    "import matplotlib.pyplot as plt\n",
    "from tqdm import tqdm\n",
    "from torch.utils.data import DataLoader"
   ]
  },
  {
   "cell_type": "code",
   "execution_count": null,
   "id": "288c8d82-3504-42f6-91b4-9cf7408009a9",
   "metadata": {},
   "outputs": [],
   "source": [
    "sys.path.append('..')"
   ]
  },
  {
   "cell_type": "code",
   "execution_count": null,
   "id": "9663fae3-00f9-4e2d-a66a-2e352d084d3c",
   "metadata": {},
   "outputs": [],
   "source": [
    "from dataset import *"
   ]
  },
  {
   "cell_type": "markdown",
   "id": "a3f0f10d-6d16-4dad-99fb-589d3b4fb72f",
   "metadata": {},
   "source": [
    "#### Config"
   ]
  },
  {
   "cell_type": "code",
   "execution_count": null,
   "id": "f3ffae26-f01f-4f19-bf55-22e140da446a",
   "metadata": {},
   "outputs": [],
   "source": [
    "dataset_path = '../../change_detection_dataset/SN7_buildings/train'\n",
    "masks_path = '../../change_detection_dataset/SN7_masks'\n",
    "\n",
    "train_df_path = '../../change_detection_dataset/dataset_1/train.csv'\n",
    "valid_df_path = '../../change_detection_dataset/dataset_1/valid.csv'\n",
    "test_df_path = '../../change_detection_dataset/dataset_1/test.csv'"
   ]
  },
  {
   "cell_type": "markdown",
   "id": "3c04f384-80c8-4ab3-ad9a-989c8acfc73c",
   "metadata": {},
   "source": [
    "### Function"
   ]
  },
  {
   "cell_type": "code",
   "execution_count": null,
   "id": "104ac4dd-e23b-4868-afac-406ef671be15",
   "metadata": {},
   "outputs": [],
   "source": [
    "def get_changes(dataset):\n",
    "    change_per_combination = []\n",
    "\n",
    "    dataloader = DataLoader(dataset,\n",
    "                            batch_size=4,\n",
    "                            num_workers=4)\n",
    "    \n",
    "    for _, _, changes in tqdm(dataloader):\n",
    "        for change in changes:\n",
    "            change_per_combination.append(change.sum().numpy().item())\n",
    "\n",
    "    return change_per_combination"
   ]
  },
  {
   "cell_type": "code",
   "execution_count": null,
   "id": "618f8958-6736-4490-a0b1-2f54ac39851f",
   "metadata": {},
   "outputs": [],
   "source": [
    "train_dataset = ChangeDetectionDataset(dataset_path=dataset_path,\n",
    "                                       masks_path=masks_path,\n",
    "                                       df_path=train_df_path,\n",
    "                                       training_mode=False,\n",
    "                                       return_masks=False)\n",
    "\n",
    "valid_dataset = ChangeDetectionDataset(dataset_path=dataset_path,\n",
    "                                       masks_path=masks_path,\n",
    "                                       df_path=valid_df_path,\n",
    "                                       training_mode=False,\n",
    "                                       return_masks=False)\n",
    "\n",
    "test_dataset = ChangeDetectionDataset(dataset_path=dataset_path,\n",
    "                                      masks_path=masks_path,\n",
    "                                      df_path=test_df_path,\n",
    "                                      training_mode=False,\n",
    "                                      return_masks=False)"
   ]
  },
  {
   "cell_type": "markdown",
   "id": "4fa8f77d-8ce6-4356-af33-b9d7af7bd4b7",
   "metadata": {},
   "source": [
    "### Training dataset"
   ]
  },
  {
   "cell_type": "code",
   "execution_count": null,
   "id": "9106a832-218d-4dc9-9046-9118ab838fde",
   "metadata": {},
   "outputs": [],
   "source": [
    "change_per_combination_train = np.array(get_changes(train_dataset))\n",
    "change_per_combination_valid = np.array(get_changes(valid_dataset))\n",
    "change_per_combination_test = np.array(get_changes(test_dataset))"
   ]
  },
  {
   "cell_type": "code",
   "execution_count": null,
   "id": "bff7ecc3-2ec9-4adf-b561-fdfa1d3b028d",
   "metadata": {},
   "outputs": [],
   "source": [
    "train_change_df = pd.DataFrame(change_per_combination_train, columns=['train'])\n",
    "valid_change_df = pd.DataFrame(change_per_combination_valid, columns=['valid'])\n",
    "test_change_df = pd.DataFrame(change_per_combination_test, columns=['test'])"
   ]
  },
  {
   "cell_type": "code",
   "execution_count": null,
   "id": "d11dc928-bde1-4dc5-9900-e737da3cf70e",
   "metadata": {},
   "outputs": [],
   "source": [
    "pd.concat([train_change_df.describe(percentiles=[0.25, 0.50, 0.75, 0.95, 0.99]), \n",
    "           valid_change_df.describe(percentiles=[0.25, 0.50, 0.75, 0.95, 0.99]),\n",
    "          test_change_df.describe(percentiles=[0.25, 0.50, 0.75, 0.95, 0.99])], axis=1)"
   ]
  },
  {
   "cell_type": "code",
   "execution_count": null,
   "id": "1ba10d50-7e18-46a4-afe9-28805b1a07fb",
   "metadata": {},
   "outputs": [],
   "source": [
    "dataset = train_dataset\n",
    "change_per_combination = change_per_combination_train\n",
    "\n",
    "AOI_list = [x[0] for x in dataset.combinations_list]\n",
    "\n",
    "AOI_first_appearance = [AOI_list.index(x) for x in set(AOI_list)]\n",
    "\n",
    "fig, axs = plt.subplots(figsize=(300, 10))\n",
    "\n",
    "plt.plot(range(len(change_per_combination)), change_per_combination)\n",
    "plt.vlines(AOI_first_appearance, ymin=0, ymax=np.max(change_per_combination), linestyles='dashed', color='C1')"
   ]
  },
  {
   "cell_type": "code",
   "execution_count": null,
   "id": "9b5600e7-abcc-421e-a651-c097a85c2a8f",
   "metadata": {},
   "outputs": [],
   "source": [
    "dataset = valid_dataset\n",
    "change_per_combination = change_per_combination_valid\n",
    "\n",
    "AOI_list = [x[0] for x in dataset.combinations_list]\n",
    "\n",
    "AOI_first_appearance = [AOI_list.index(x) for x in set(AOI_list)]\n",
    "\n",
    "fig, axs = plt.subplots(figsize=(300, 10))\n",
    "\n",
    "plt.plot(range(len(change_per_combination)), change_per_combination)\n",
    "plt.vlines(AOI_first_appearance, ymin=0, ymax=np.max(change_per_combination), linestyles='dashed', color='C1')"
   ]
  },
  {
   "cell_type": "code",
   "execution_count": null,
   "id": "88c48ac8-0f31-49f0-aac8-dc01062b82ed",
   "metadata": {},
   "outputs": [],
   "source": [
    "dataset = test_dataset\n",
    "change_per_combination = change_per_combination_test\n",
    "\n",
    "AOI_list = [x[0] for x in dataset.combinations_list]\n",
    "\n",
    "AOI_first_appearance = [AOI_list.index(x) for x in set(AOI_list)]\n",
    "\n",
    "fig, axs = plt.subplots(figsize=(300, 10))\n",
    "\n",
    "plt.plot(range(len(change_per_combination)), change_per_combination)\n",
    "plt.vlines(AOI_first_appearance, ymin=0, ymax=np.max(change_per_combination), linestyles='dashed', color='C1')"
   ]
  },
  {
   "cell_type": "code",
   "execution_count": null,
   "id": "0369f396-e8bf-45f8-922e-2af123dec81b",
   "metadata": {
    "scrolled": true
   },
   "outputs": [],
   "source": [
    "len(train_dataset.combinations_list)"
   ]
  },
  {
   "cell_type": "code",
   "execution_count": null,
   "id": "3eb30780-0afb-4406-9e5f-c84c6d00a592",
   "metadata": {},
   "outputs": [],
   "source": [
    "with open('../train_change_per_combination.pickle', 'wb') as f:\n",
    "    pickle.dump(change_per_combination_train, f)"
   ]
  },
  {
   "cell_type": "code",
   "execution_count": null,
   "id": "09fc286b-eb17-469b-a081-bf71249d5f06",
   "metadata": {},
   "outputs": [],
   "source": []
  }
 ],
 "metadata": {
  "kernelspec": {
   "display_name": "Python 3 (ipykernel)",
   "language": "python",
   "name": "python3"
  },
  "language_info": {
   "codemirror_mode": {
    "name": "ipython",
    "version": 3
   },
   "file_extension": ".py",
   "mimetype": "text/x-python",
   "name": "python",
   "nbconvert_exporter": "python",
   "pygments_lexer": "ipython3",
   "version": "3.12.2"
  }
 },
 "nbformat": 4,
 "nbformat_minor": 5
}
