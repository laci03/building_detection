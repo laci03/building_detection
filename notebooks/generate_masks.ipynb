{
 "cells": [
  {
   "cell_type": "code",
   "execution_count": null,
   "id": "b5aaeaea-d2b5-40d5-a511-68b80cdd997b",
   "metadata": {},
   "outputs": [],
   "source": [
    "import os\n",
    "import cv2\n",
    "\n",
    "import pandas as pd\n",
    "import rasterio as rio\n",
    "\n",
    "from tqdm import tqdm\n",
    "from pathlib import Path\n",
    "from shapely import wkt\n",
    "from rasterio import features"
   ]
  },
  {
   "cell_type": "code",
   "execution_count": null,
   "id": "32acf231-e330-4d4c-afe9-01d3c19b6be5",
   "metadata": {},
   "outputs": [],
   "source": [
    "dataset_path = Path('../../change_detection_dataset/SN7_buildings/train')\n",
    "df_path = '../../building_detection_dataset/dataset_1/all_df.csv'\n",
    "\n",
    "output_path = Path('../../building_detection_dataset/SN7_masks')"
   ]
  },
  {
   "cell_type": "markdown",
   "id": "e466eecd-9c59-4f57-8f87-f3eeeeccd6c4",
   "metadata": {},
   "source": [
    "### Read csv"
   ]
  },
  {
   "cell_type": "code",
   "execution_count": null,
   "id": "a828ea11-9449-4d8b-997a-43268715dd53",
   "metadata": {},
   "outputs": [],
   "source": [
    "df = pd.read_csv(df_path, index_col=0)"
   ]
  },
  {
   "cell_type": "code",
   "execution_count": null,
   "id": "634362e0-a049-4e6d-98ad-819fe5f96f17",
   "metadata": {},
   "outputs": [],
   "source": [
    "df"
   ]
  },
  {
   "cell_type": "markdown",
   "id": "3277a801-d64b-4425-b7b9-698c7c2332a6",
   "metadata": {},
   "source": [
    "### Generate masks"
   ]
  },
  {
   "cell_type": "code",
   "execution_count": null,
   "id": "4f866cac-0942-4822-8403-5402b487b3dc",
   "metadata": {},
   "outputs": [],
   "source": [
    "os.makedirs(output_path, exist_ok=True)"
   ]
  },
  {
   "cell_type": "code",
   "execution_count": null,
   "id": "5b6e253c-49df-4dc4-be6a-f44032838c7f",
   "metadata": {},
   "outputs": [],
   "source": [
    "AOI_names = list(set(df['AOI_name']))\n",
    "\n",
    "for AOI_name in tqdm(AOI_names):\n",
    "    os.makedirs(output_path / AOI_name, exist_ok=True)\n",
    "\n",
    "    file_names = sorted(list(set(df[df['AOI_name'] == AOI_name]['filename'])))\n",
    "    \n",
    "    for file_name in file_names:\n",
    "        image_path = dataset_path / AOI_name / 'images' / '{}.tif'.format(file_name)\n",
    "\n",
    "        r = rio.open(image_path).read()\n",
    "\n",
    "        image = r.transpose((1, 2, 0))[:, :, :-1]\n",
    "\n",
    "        polygons = list(df[(df['AOI_name'] == AOI_name) &\n",
    "                        (df['filename'] == file_name)]['geometry'])\n",
    "        \n",
    "        mask = features.rasterize(((wkt.loads(polygon), 255) for polygon in polygons),\n",
    "                                  out_shape=image.shape[:2])\n",
    "\n",
    "        cv2.imwrite(str(output_path / AOI_name / '{}.png'.format(file_name)), mask)"
   ]
  },
  {
   "cell_type": "code",
   "execution_count": null,
   "id": "672b2d45-37b3-4395-a061-a9888e6fee21",
   "metadata": {},
   "outputs": [],
   "source": []
  },
  {
   "cell_type": "code",
   "execution_count": null,
   "id": "00d84b39-be34-49ea-ab6a-fd708c082490",
   "metadata": {},
   "outputs": [],
   "source": []
  }
 ],
 "metadata": {
  "kernelspec": {
   "display_name": "Python 3 (ipykernel)",
   "language": "python",
   "name": "python3"
  },
  "language_info": {
   "codemirror_mode": {
    "name": "ipython",
    "version": 3
   },
   "file_extension": ".py",
   "mimetype": "text/x-python",
   "name": "python",
   "nbconvert_exporter": "python",
   "pygments_lexer": "ipython3",
   "version": "3.12.2"
  }
 },
 "nbformat": 4,
 "nbformat_minor": 5
}
