{
 "cells": [
  {
   "cell_type": "code",
   "execution_count": null,
   "id": "367fd5be-b8c0-4d91-9b56-212a53784722",
   "metadata": {},
   "outputs": [],
   "source": [
    "import sys\n",
    "\n",
    "import torch"
   ]
  },
  {
   "cell_type": "code",
   "execution_count": null,
   "id": "90a78b19-6dc9-4fb8-9810-cae2cb3db064",
   "metadata": {},
   "outputs": [],
   "source": [
    "sys.path.append('..')"
   ]
  },
  {
   "cell_type": "code",
   "execution_count": null,
   "id": "60c5f484-dd53-4a89-89d2-137d5caa6e84",
   "metadata": {},
   "outputs": [],
   "source": [
    "from evaluation import ChangeDetectionEvaluation"
   ]
  },
  {
   "cell_type": "code",
   "execution_count": null,
   "id": "c6272d7e-0170-4e30-ae5b-2fe557fe9a73",
   "metadata": {},
   "outputs": [],
   "source": [
    "cd_evaluation = ChangeDetectionEvaluation()"
   ]
  },
  {
   "cell_type": "markdown",
   "id": "fca50819-ac21-4e37-aaee-81485835a28a",
   "metadata": {},
   "source": [
    "# Example 1"
   ]
  },
  {
   "cell_type": "code",
   "execution_count": null,
   "id": "231ee277-d14c-4930-9c87-09a82c2631a7",
   "metadata": {},
   "outputs": [],
   "source": [
    "cd_evaluation.reset()\n",
    "\n",
    "ground_truth = torch.ones((10, 10))\n",
    "output = torch.ones((10, 10))"
   ]
  },
  {
   "cell_type": "code",
   "execution_count": null,
   "id": "26a07213-16cb-4ed9-b1e0-2549f54e4fcf",
   "metadata": {},
   "outputs": [],
   "source": [
    "cd_evaluation.update(ground_truth, output)"
   ]
  },
  {
   "cell_type": "code",
   "execution_count": null,
   "id": "d51cd200-fb7d-49cf-a084-52e1b3829f7d",
   "metadata": {},
   "outputs": [],
   "source": [
    "cd_evaluation.get_precision()"
   ]
  },
  {
   "cell_type": "code",
   "execution_count": null,
   "id": "387d30ae-bd06-42e2-8a07-bef0fd7e90c9",
   "metadata": {},
   "outputs": [],
   "source": [
    "cd_evaluation.get_recall()"
   ]
  },
  {
   "cell_type": "code",
   "execution_count": null,
   "id": "7feacda8-1572-47c2-ae25-9bef5713ecb5",
   "metadata": {},
   "outputs": [],
   "source": [
    "cd_evaluation.get_accuracy()"
   ]
  },
  {
   "cell_type": "code",
   "execution_count": null,
   "id": "81fe8e5d-aa09-4bc6-950b-05da0035f925",
   "metadata": {},
   "outputs": [],
   "source": [
    "cd_evaluation.get_f1()"
   ]
  },
  {
   "cell_type": "markdown",
   "id": "3367f589-87df-45c3-9468-9879b348b692",
   "metadata": {},
   "source": [
    "# Example 2"
   ]
  },
  {
   "cell_type": "code",
   "execution_count": null,
   "id": "b61df15a-02e2-4e22-98ef-4eb09c4da1c5",
   "metadata": {},
   "outputs": [],
   "source": [
    "cd_evaluation.reset()\n",
    "\n",
    "ground_truth = torch.zeros((10, 10))\n",
    "output = torch.ones((10, 10))"
   ]
  },
  {
   "cell_type": "code",
   "execution_count": null,
   "id": "2852d190-3ddd-4dc2-9458-69cc7af476b7",
   "metadata": {},
   "outputs": [],
   "source": [
    "cd_evaluation.update(ground_truth, output)"
   ]
  },
  {
   "cell_type": "code",
   "execution_count": null,
   "id": "8a540c5c-c1f8-45c8-aab7-c3befae5310c",
   "metadata": {},
   "outputs": [],
   "source": [
    "cd_evaluation.get_precision()"
   ]
  },
  {
   "cell_type": "code",
   "execution_count": null,
   "id": "143a2801-9e8a-42d7-9bfb-649ebd1cf4c6",
   "metadata": {},
   "outputs": [],
   "source": [
    "cd_evaluation.get_recall()"
   ]
  },
  {
   "cell_type": "code",
   "execution_count": null,
   "id": "a3a5e9b6-b0fd-4e28-bfae-8fc804091ff7",
   "metadata": {},
   "outputs": [],
   "source": [
    "cd_evaluation.get_accuracy()"
   ]
  },
  {
   "cell_type": "code",
   "execution_count": null,
   "id": "09f0271b-6ea3-4c85-8a12-f595fa424f97",
   "metadata": {},
   "outputs": [],
   "source": [
    "cd_evaluation.get_f1()"
   ]
  },
  {
   "cell_type": "markdown",
   "id": "8290052a-7374-44df-98a4-fbc7c018401b",
   "metadata": {},
   "source": [
    "### Example 3"
   ]
  },
  {
   "cell_type": "code",
   "execution_count": null,
   "id": "4ea6ebeb-4cb3-4753-bd87-4a39bb7f400d",
   "metadata": {},
   "outputs": [],
   "source": [
    "cd_evaluation.reset()\n",
    "\n",
    "ground_truth = torch.tensor([[0, 1, 1],\n",
    "                             [1, 0, 1],\n",
    "                             [0, 0, 1]])\n",
    "output = torch.tensor([[1, 0, 1],\n",
    "                       [1, 0, 1],\n",
    "                       [1, 0, 1]])"
   ]
  },
  {
   "cell_type": "code",
   "execution_count": null,
   "id": "97044ecf-082d-4108-a34f-1c034f7a8747",
   "metadata": {},
   "outputs": [],
   "source": [
    "cd_evaluation.update(ground_truth, output)"
   ]
  },
  {
   "cell_type": "code",
   "execution_count": null,
   "id": "4ad572e9-73a8-46c4-869b-0e4acb596e0f",
   "metadata": {},
   "outputs": [],
   "source": [
    "cd_evaluation.get_precision()"
   ]
  },
  {
   "cell_type": "code",
   "execution_count": null,
   "id": "793af78a-ce83-4f71-a411-3c8c83f7808b",
   "metadata": {},
   "outputs": [],
   "source": [
    "cd_evaluation.get_recall()"
   ]
  },
  {
   "cell_type": "code",
   "execution_count": null,
   "id": "d2d1f154-d295-4fc7-81ae-54fbc4108ab3",
   "metadata": {},
   "outputs": [],
   "source": [
    "cd_evaluation.get_accuracy()"
   ]
  },
  {
   "cell_type": "code",
   "execution_count": null,
   "id": "7f0e3161-78d5-4999-b4f8-8e1fa0d85535",
   "metadata": {},
   "outputs": [],
   "source": [
    "cd_evaluation.get_f1()"
   ]
  },
  {
   "cell_type": "code",
   "execution_count": null,
   "id": "825c74fc-6415-429e-84f7-7628f614cbdd",
   "metadata": {},
   "outputs": [],
   "source": [
    "cd_evaluation.tp, cd_evaluation.fp, cd_evaluation.fn, cd_evaluation.tn"
   ]
  },
  {
   "cell_type": "code",
   "execution_count": null,
   "id": "e6b3a66b-50b5-429e-be58-3d098b382cb4",
   "metadata": {},
   "outputs": [],
   "source": [
    "tp = 4\n",
    "\n",
    "fp = 2\n",
    "fn = 1\n",
    "\n",
    "tn = 2"
   ]
  },
  {
   "cell_type": "code",
   "execution_count": null,
   "id": "64546129-eb22-4b24-a8d8-42f51a5a1868",
   "metadata": {},
   "outputs": [],
   "source": [
    "(2 * cd_evaluation.get_precision()* cd_evaluation.get_recall()) / (cd_evaluation.get_precision() + cd_evaluation.get_recall())"
   ]
  }
 ],
 "metadata": {
  "kernelspec": {
   "display_name": "Python 3 (ipykernel)",
   "language": "python",
   "name": "python3"
  },
  "language_info": {
   "codemirror_mode": {
    "name": "ipython",
    "version": 3
   },
   "file_extension": ".py",
   "mimetype": "text/x-python",
   "name": "python",
   "nbconvert_exporter": "python",
   "pygments_lexer": "ipython3",
   "version": "3.12.2"
  }
 },
 "nbformat": 4,
 "nbformat_minor": 5
}
