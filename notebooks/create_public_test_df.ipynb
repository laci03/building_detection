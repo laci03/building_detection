{
 "cells": [
  {
   "cell_type": "code",
   "execution_count": null,
   "id": "19e5193d-fd6a-49aa-b9f1-a90635be566d",
   "metadata": {},
   "outputs": [],
   "source": [
    "import pandas as pd\n",
    "\n",
    "from pathlib import Path"
   ]
  },
  {
   "cell_type": "code",
   "execution_count": null,
   "id": "bfa88313-bb6e-4f72-a72a-450dc62e086f",
   "metadata": {},
   "outputs": [],
   "source": [
    "input_path = Path('../../../change_detection_dataset/kolozsvar_enyed')\n",
    "\n",
    "output_path = '../../../change_detection_dataset/kolozsvar_enyed/real_world.csv'"
   ]
  },
  {
   "cell_type": "code",
   "execution_count": null,
   "id": "f98aa4b3-7cca-46fc-81e2-5a09063557ea",
   "metadata": {},
   "outputs": [],
   "source": [
    "files = list(input_path.glob('*/*.tif'))"
   ]
  },
  {
   "cell_type": "code",
   "execution_count": null,
   "id": "f6675d8d-93f2-44b0-9af8-202092578a56",
   "metadata": {},
   "outputs": [],
   "source": [
    "df = pd.DataFrame()"
   ]
  },
  {
   "cell_type": "code",
   "execution_count": null,
   "id": "deaa56b1-f2c7-42a6-8d8e-f7f291f62e8f",
   "metadata": {},
   "outputs": [],
   "source": [
    "df['filename'] = [x.name.replace('.tif', '') for x in files]\n",
    "df['AOI_name'] = [x.parent.name for x in files]"
   ]
  },
  {
   "cell_type": "code",
   "execution_count": null,
   "id": "c6ccaf67-20c6-4117-a1d2-6f8310d48a90",
   "metadata": {},
   "outputs": [],
   "source": [
    "df"
   ]
  },
  {
   "cell_type": "code",
   "execution_count": null,
   "id": "c8c749ee-6ab1-4c5c-bc62-c2460b8900d6",
   "metadata": {},
   "outputs": [],
   "source": [
    "df.to_csv(output_path)"
   ]
  },
  {
   "cell_type": "code",
   "execution_count": null,
   "id": "bcbadbf8-8540-4c50-a6c6-b4a3e6d26d41",
   "metadata": {},
   "outputs": [],
   "source": []
  }
 ],
 "metadata": {
  "kernelspec": {
   "display_name": "Python 3 (ipykernel)",
   "language": "python",
   "name": "python3"
  },
  "language_info": {
   "codemirror_mode": {
    "name": "ipython",
    "version": 3
   },
   "file_extension": ".py",
   "mimetype": "text/x-python",
   "name": "python",
   "nbconvert_exporter": "python",
   "pygments_lexer": "ipython3",
   "version": "3.12.2"
  }
 },
 "nbformat": 4,
 "nbformat_minor": 5
}
