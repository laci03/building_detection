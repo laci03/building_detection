{
 "cells": [
  {
   "cell_type": "code",
   "execution_count": null,
   "id": "2982b3fd-6198-4c93-ada8-7fd824c08d2a",
   "metadata": {},
   "outputs": [],
   "source": [
    "import cv2\n",
    "import sys\n",
    "\n",
    "from tqdm import tqdm\n",
    "from torch.utils.data import DataLoader"
   ]
  },
  {
   "cell_type": "code",
   "execution_count": null,
   "id": "2fde8686-36a6-4445-9fd0-8d610c978230",
   "metadata": {},
   "outputs": [],
   "source": [
    "sys.path.append('..')"
   ]
  },
  {
   "cell_type": "code",
   "execution_count": null,
   "id": "ddc2f85e-2f4c-42df-8e2d-8e37f838ca08",
   "metadata": {},
   "outputs": [],
   "source": [
    "from dataset import *"
   ]
  },
  {
   "cell_type": "markdown",
   "id": "0a0a1893-dbe7-4e9b-a97a-da034f9e13ab",
   "metadata": {},
   "source": [
    "### Config"
   ]
  },
  {
   "cell_type": "code",
   "execution_count": null,
   "id": "a6bc35ce-6c62-4b57-9559-680dfe48cf6a",
   "metadata": {},
   "outputs": [],
   "source": [
    "dataset_path = '../../change_detection_dataset/SN7_buildings/train'\n",
    "masks_path = '../../change_detection_dataset/SN7_masks'\n",
    "\n",
    "all_df = '../../change_detection_dataset/dataset_1/all_df.csv'\n",
    "train_df = '../../change_detection_dataset/dataset_1/train.csv'\n",
    "valid_df = '../../change_detection_dataset/dataset_1/valid.csv'\n",
    "test_df = '../../change_detection_dataset/dataset_1/test.csv'"
   ]
  },
  {
   "cell_type": "markdown",
   "id": "5c5be8b1-dfdc-49a4-b6db-8c42c42d0d7c",
   "metadata": {},
   "source": [
    "### Function"
   ]
  },
  {
   "cell_type": "code",
   "execution_count": null,
   "id": "637921b3-914a-4c35-9433-67f6248f0a43",
   "metadata": {},
   "outputs": [],
   "source": [
    "def get_pixels_stats(dataset):\n",
    "    total_pixels = 0\n",
    "    building_pixels = 0\n",
    "    background_pixels = 0\n",
    "\n",
    "    dataloader = DataLoader(dataset,\n",
    "                            batch_size=4,\n",
    "                            num_workers=4)\n",
    "    \n",
    "    for _, mask in tqdm(dataloader):\n",
    "        total_pixels += (mask.shape[0] * mask.shape[2]* mask.shape[3])\n",
    "    \n",
    "        building_pixels += mask.sum().numpy()\n",
    "        background_pixels += (mask == 0).sum().numpy()\n",
    "\n",
    "    return total_pixels, background_pixels, building_pixels"
   ]
  },
  {
   "cell_type": "markdown",
   "id": "50b6fd60-8563-4dee-b78b-b0d4f07b5e8f",
   "metadata": {},
   "source": [
    "### Create datasets"
   ]
  },
  {
   "cell_type": "code",
   "execution_count": null,
   "id": "5e2cec2a-f8c9-4024-ba20-c7053401d4e5",
   "metadata": {},
   "outputs": [],
   "source": [
    "dataset = BuildingDetectionDataset(dataset_path=dataset_path,\n",
    "                                   masks_path=masks_path,\n",
    "                                   df_path=all_df,\n",
    "                                   training_mode=False)\n",
    "\n",
    "train_dataset = BuildingDetectionDataset(dataset_path=dataset_path,\n",
    "                                         masks_path=masks_path,\n",
    "                                         df_path=train_df,\n",
    "                                         training_mode=False)\n",
    "\n",
    "valid_dataset = BuildingDetectionDataset(dataset_path=dataset_path,\n",
    "                                         masks_path=masks_path,\n",
    "                                         df_path=valid_df,\n",
    "                                         training_mode=False)\n",
    "\n",
    "test_dataset = BuildingDetectionDataset(dataset_path=dataset_path,\n",
    "                                        masks_path=masks_path,\n",
    "                                        df_path=test_df,\n",
    "                                        training_mode=False)"
   ]
  },
  {
   "cell_type": "markdown",
   "id": "bcfe2070-a2b5-40b3-b1ec-f221d907cf65",
   "metadata": {},
   "source": [
    "### All dataset"
   ]
  },
  {
   "cell_type": "code",
   "execution_count": null,
   "id": "7beede4e-138b-447c-8824-cc495c6c9d0d",
   "metadata": {},
   "outputs": [],
   "source": [
    "total_pixels, background_pixels, building_pixels = get_pixels_stats(dataset)\n",
    "\n",
    "print('total number of pixels in the dataset {}'.format(total_pixels))\n",
    "print('total number of background pixels in the dataset {} ({}%)'.format(background_pixels, background_pixels/total_pixels*100))\n",
    "print('total number of building pixels in the dataset {} ({}%)'.format(building_pixels, building_pixels/total_pixels*100))"
   ]
  },
  {
   "cell_type": "markdown",
   "id": "57d00685-0b3f-4eb5-bc22-528c89b40dcd",
   "metadata": {},
   "source": [
    "### Training dataset"
   ]
  },
  {
   "cell_type": "code",
   "execution_count": null,
   "id": "129c1340-262e-464e-add8-1e91f877ad52",
   "metadata": {},
   "outputs": [],
   "source": [
    "total_pixels, background_pixels, building_pixels = get_pixels_stats(train_dataset)\n",
    "\n",
    "print('total number of pixels in the training dataset {}'.format(total_pixels))\n",
    "print('total number of background pixels in the training dataset {} ({}%)'.format(background_pixels, background_pixels/total_pixels*100))\n",
    "print('total number of building pixels in the training dataset {} ({}%)'.format(building_pixels, building_pixels/total_pixels*100))"
   ]
  },
  {
   "cell_type": "markdown",
   "id": "17e1deb6-d756-4535-beb5-394fcc0b9275",
   "metadata": {},
   "source": [
    "### Validation dataset"
   ]
  },
  {
   "cell_type": "code",
   "execution_count": null,
   "id": "dc4366b1-d670-42af-8f08-bb3aec9a632d",
   "metadata": {},
   "outputs": [],
   "source": [
    "total_pixels, background_pixels, building_pixels = get_pixels_stats(valid_dataset)\n",
    "\n",
    "print('total number of pixels in the validation dataset {}'.format(total_pixels))\n",
    "print('total number of background pixels in the validation dataset {} ({}%)'.format(background_pixels, background_pixels/total_pixels*100))\n",
    "print('total number of building pixels in the validation dataset {} ({}%)'.format(building_pixels, building_pixels/total_pixels*100))"
   ]
  },
  {
   "cell_type": "markdown",
   "id": "729b2875-4043-4a97-99b1-f3da53f1ba74",
   "metadata": {},
   "source": [
    "### Test dataset"
   ]
  },
  {
   "cell_type": "code",
   "execution_count": null,
   "id": "32677ea9-979f-4efa-a5d6-a85ce96379c0",
   "metadata": {},
   "outputs": [],
   "source": [
    "total_pixels, background_pixels, building_pixels = get_pixels_stats(test_dataset)\n",
    "\n",
    "print('total number of pixels in the testing dataset {}'.format(total_pixels))\n",
    "print('total number of background pixels in the testing dataset {} ({}%)'.format(background_pixels, background_pixels/total_pixels*100))\n",
    "print('total number of building pixels in the testing dataset {} ({}%)'.format(building_pixels, building_pixels/total_pixels*100))"
   ]
  },
  {
   "cell_type": "code",
   "execution_count": null,
   "id": "f0943012-33ec-4084-b575-87c130354df2",
   "metadata": {},
   "outputs": [],
   "source": []
  }
 ],
 "metadata": {
  "kernelspec": {
   "display_name": "Python 3 (ipykernel)",
   "language": "python",
   "name": "python3"
  },
  "language_info": {
   "codemirror_mode": {
    "name": "ipython",
    "version": 3
   },
   "file_extension": ".py",
   "mimetype": "text/x-python",
   "name": "python",
   "nbconvert_exporter": "python",
   "pygments_lexer": "ipython3",
   "version": "3.12.2"
  }
 },
 "nbformat": 4,
 "nbformat_minor": 5
}
