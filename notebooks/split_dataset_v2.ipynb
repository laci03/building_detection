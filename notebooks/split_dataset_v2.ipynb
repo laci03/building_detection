{
 "cells": [
  {
   "cell_type": "code",
   "execution_count": 1,
   "id": "18bacb7e-278a-4e9f-b02e-e043b78d5d2c",
   "metadata": {},
   "outputs": [],
   "source": [
    "import os\n",
    "\n",
    "import pandas as pd\n",
    "import numpy as np\n",
    "\n",
    "from shapely import wkt\n",
    "\n",
    "from sklearn.model_selection import train_test_split"
   ]
  },
  {
   "cell_type": "markdown",
   "id": "83606f7e-8953-431e-9bca-7745b5c3f9b2",
   "metadata": {},
   "source": [
    "### Parameters"
   ]
  },
  {
   "cell_type": "code",
   "execution_count": 2,
   "id": "fbd825c2-9e9b-4531-8aa5-879b9861b96e",
   "metadata": {},
   "outputs": [],
   "source": [
    "percent_in_train = 0.8\n",
    "\n",
    "percent_in_valid = 0.1\n",
    "percent_in_test = 0.1\n",
    "\n",
    "df_path = '../../datasets/space_net_7/SN7_buildings_train_csvs/csvs/sn7_train_ground_truth_pix.csv'\n",
    "\n",
    "output_path = '../../building_detection_dataset/dataset_2'"
   ]
  },
  {
   "cell_type": "markdown",
   "id": "3a8a1d4f-6fde-43ac-b7b2-15462e1aa6cb",
   "metadata": {},
   "source": [
    "### verifications"
   ]
  },
  {
   "cell_type": "code",
   "execution_count": 3,
   "id": "624603c0-33d1-442b-9d0b-23a53c8f89c3",
   "metadata": {},
   "outputs": [],
   "source": [
    "os.makedirs(output_path, exist_ok=True)"
   ]
  },
  {
   "cell_type": "code",
   "execution_count": 4,
   "id": "b06f4cdd-11c7-4315-8e70-6e3481a2aed7",
   "metadata": {},
   "outputs": [],
   "source": [
    "assert (percent_in_train + percent_in_valid + percent_in_test) == 1 "
   ]
  },
  {
   "cell_type": "markdown",
   "id": "7f66b29d-8b47-469d-87b4-121890d22800",
   "metadata": {},
   "source": [
    "### Read df"
   ]
  },
  {
   "cell_type": "code",
   "execution_count": 21,
   "id": "0b67ca77-781c-4cfd-8bfe-87185bb57e49",
   "metadata": {},
   "outputs": [
    {
     "data": {
      "text/html": [
       "<div>\n",
       "<style scoped>\n",
       "    .dataframe tbody tr th:only-of-type {\n",
       "        vertical-align: middle;\n",
       "    }\n",
       "\n",
       "    .dataframe tbody tr th {\n",
       "        vertical-align: top;\n",
       "    }\n",
       "\n",
       "    .dataframe thead th {\n",
       "        text-align: right;\n",
       "    }\n",
       "</style>\n",
       "<table border=\"1\" class=\"dataframe\">\n",
       "  <thead>\n",
       "    <tr style=\"text-align: right;\">\n",
       "      <th></th>\n",
       "      <th>filename</th>\n",
       "      <th>id</th>\n",
       "      <th>geometry</th>\n",
       "    </tr>\n",
       "  </thead>\n",
       "  <tbody>\n",
       "    <tr>\n",
       "      <th>0</th>\n",
       "      <td>global_monthly_2018_01_mosaic_L15-0331E-1257N_...</td>\n",
       "      <td>91</td>\n",
       "      <td>POLYGON ((814.9857745971531 845.6005742002744,...</td>\n",
       "    </tr>\n",
       "    <tr>\n",
       "      <th>1</th>\n",
       "      <td>global_monthly_2018_01_mosaic_L15-0331E-1257N_...</td>\n",
       "      <td>1452</td>\n",
       "      <td>POLYGON ((886.3093001581728 842.7000443374272,...</td>\n",
       "    </tr>\n",
       "    <tr>\n",
       "      <th>2</th>\n",
       "      <td>global_monthly_2018_01_mosaic_L15-0331E-1257N_...</td>\n",
       "      <td>1616</td>\n",
       "      <td>POLYGON ((930.1175056053326 840.4646877695341,...</td>\n",
       "    </tr>\n",
       "    <tr>\n",
       "      <th>3</th>\n",
       "      <td>global_monthly_2018_01_mosaic_L15-0331E-1257N_...</td>\n",
       "      <td>950</td>\n",
       "      <td>POLYGON ((923.3884236379527 840.6308379401453,...</td>\n",
       "    </tr>\n",
       "    <tr>\n",
       "      <th>4</th>\n",
       "      <td>global_monthly_2018_01_mosaic_L15-0331E-1257N_...</td>\n",
       "      <td>1765</td>\n",
       "      <td>POLYGON ((926.2129765632562 838.8862611351069,...</td>\n",
       "    </tr>\n",
       "  </tbody>\n",
       "</table>\n",
       "</div>"
      ],
      "text/plain": [
       "                                            filename    id  \\\n",
       "0  global_monthly_2018_01_mosaic_L15-0331E-1257N_...    91   \n",
       "1  global_monthly_2018_01_mosaic_L15-0331E-1257N_...  1452   \n",
       "2  global_monthly_2018_01_mosaic_L15-0331E-1257N_...  1616   \n",
       "3  global_monthly_2018_01_mosaic_L15-0331E-1257N_...   950   \n",
       "4  global_monthly_2018_01_mosaic_L15-0331E-1257N_...  1765   \n",
       "\n",
       "                                            geometry  \n",
       "0  POLYGON ((814.9857745971531 845.6005742002744,...  \n",
       "1  POLYGON ((886.3093001581728 842.7000443374272,...  \n",
       "2  POLYGON ((930.1175056053326 840.4646877695341,...  \n",
       "3  POLYGON ((923.3884236379527 840.6308379401453,...  \n",
       "4  POLYGON ((926.2129765632562 838.8862611351069,...  "
      ]
     },
     "execution_count": 21,
     "metadata": {},
     "output_type": "execute_result"
    }
   ],
   "source": [
    "df = pd.read_csv(df_path)\n",
    "df.head()"
   ]
  },
  {
   "cell_type": "code",
   "execution_count": 22,
   "id": "ce5a866e-c6ac-47b9-b076-07773bfd2e39",
   "metadata": {},
   "outputs": [
    {
     "data": {
      "text/html": [
       "<div>\n",
       "<style scoped>\n",
       "    .dataframe tbody tr th:only-of-type {\n",
       "        vertical-align: middle;\n",
       "    }\n",
       "\n",
       "    .dataframe tbody tr th {\n",
       "        vertical-align: top;\n",
       "    }\n",
       "\n",
       "    .dataframe thead th {\n",
       "        text-align: right;\n",
       "    }\n",
       "</style>\n",
       "<table border=\"1\" class=\"dataframe\">\n",
       "  <thead>\n",
       "    <tr style=\"text-align: right;\">\n",
       "      <th></th>\n",
       "      <th>filename</th>\n",
       "      <th>id</th>\n",
       "      <th>geometry</th>\n",
       "      <th>AOI_name</th>\n",
       "    </tr>\n",
       "  </thead>\n",
       "  <tbody>\n",
       "    <tr>\n",
       "      <th>0</th>\n",
       "      <td>global_monthly_2018_01_mosaic_L15-0331E-1257N_...</td>\n",
       "      <td>91</td>\n",
       "      <td>POLYGON ((814.9857745971531 845.6005742002744,...</td>\n",
       "      <td>L15-0331E-1257N_1327_3160_13</td>\n",
       "    </tr>\n",
       "    <tr>\n",
       "      <th>1</th>\n",
       "      <td>global_monthly_2018_01_mosaic_L15-0331E-1257N_...</td>\n",
       "      <td>1452</td>\n",
       "      <td>POLYGON ((886.3093001581728 842.7000443374272,...</td>\n",
       "      <td>L15-0331E-1257N_1327_3160_13</td>\n",
       "    </tr>\n",
       "    <tr>\n",
       "      <th>2</th>\n",
       "      <td>global_monthly_2018_01_mosaic_L15-0331E-1257N_...</td>\n",
       "      <td>1616</td>\n",
       "      <td>POLYGON ((930.1175056053326 840.4646877695341,...</td>\n",
       "      <td>L15-0331E-1257N_1327_3160_13</td>\n",
       "    </tr>\n",
       "    <tr>\n",
       "      <th>3</th>\n",
       "      <td>global_monthly_2018_01_mosaic_L15-0331E-1257N_...</td>\n",
       "      <td>950</td>\n",
       "      <td>POLYGON ((923.3884236379527 840.6308379401453,...</td>\n",
       "      <td>L15-0331E-1257N_1327_3160_13</td>\n",
       "    </tr>\n",
       "    <tr>\n",
       "      <th>4</th>\n",
       "      <td>global_monthly_2018_01_mosaic_L15-0331E-1257N_...</td>\n",
       "      <td>1765</td>\n",
       "      <td>POLYGON ((926.2129765632562 838.8862611351069,...</td>\n",
       "      <td>L15-0331E-1257N_1327_3160_13</td>\n",
       "    </tr>\n",
       "  </tbody>\n",
       "</table>\n",
       "</div>"
      ],
      "text/plain": [
       "                                            filename    id  \\\n",
       "0  global_monthly_2018_01_mosaic_L15-0331E-1257N_...    91   \n",
       "1  global_monthly_2018_01_mosaic_L15-0331E-1257N_...  1452   \n",
       "2  global_monthly_2018_01_mosaic_L15-0331E-1257N_...  1616   \n",
       "3  global_monthly_2018_01_mosaic_L15-0331E-1257N_...   950   \n",
       "4  global_monthly_2018_01_mosaic_L15-0331E-1257N_...  1765   \n",
       "\n",
       "                                            geometry  \\\n",
       "0  POLYGON ((814.9857745971531 845.6005742002744,...   \n",
       "1  POLYGON ((886.3093001581728 842.7000443374272,...   \n",
       "2  POLYGON ((930.1175056053326 840.4646877695341,...   \n",
       "3  POLYGON ((923.3884236379527 840.6308379401453,...   \n",
       "4  POLYGON ((926.2129765632562 838.8862611351069,...   \n",
       "\n",
       "                       AOI_name  \n",
       "0  L15-0331E-1257N_1327_3160_13  \n",
       "1  L15-0331E-1257N_1327_3160_13  \n",
       "2  L15-0331E-1257N_1327_3160_13  \n",
       "3  L15-0331E-1257N_1327_3160_13  \n",
       "4  L15-0331E-1257N_1327_3160_13  "
      ]
     },
     "execution_count": 22,
     "metadata": {},
     "output_type": "execute_result"
    }
   ],
   "source": [
    "df['AOI_name'] = df['filename'].apply(lambda x: x.split('_mosaic_')[1])\n",
    "df.head()"
   ]
  },
  {
   "cell_type": "code",
   "execution_count": 24,
   "id": "fbe037e3-8c4d-4b4e-a582-d854a6485426",
   "metadata": {},
   "outputs": [
    {
     "data": {
      "text/plain": [
       "1408"
      ]
     },
     "execution_count": 24,
     "metadata": {},
     "output_type": "execute_result"
    }
   ],
   "source": [
    "len(df.drop_duplicates(['filename']))"
   ]
  },
  {
   "cell_type": "code",
   "execution_count": 7,
   "id": "495bca65-4772-4303-af32-e631de8eea5e",
   "metadata": {},
   "outputs": [],
   "source": [
    "df['area'] = df['geometry'].apply(lambda x: wkt.loads(x).area)"
   ]
  },
  {
   "cell_type": "code",
   "execution_count": 8,
   "id": "906fbf91-44cc-4728-a0b6-36ec51f6eb08",
   "metadata": {},
   "outputs": [
    {
     "data": {
      "text/html": [
       "<div>\n",
       "<style scoped>\n",
       "    .dataframe tbody tr th:only-of-type {\n",
       "        vertical-align: middle;\n",
       "    }\n",
       "\n",
       "    .dataframe tbody tr th {\n",
       "        vertical-align: top;\n",
       "    }\n",
       "\n",
       "    .dataframe thead th {\n",
       "        text-align: right;\n",
       "    }\n",
       "</style>\n",
       "<table border=\"1\" class=\"dataframe\">\n",
       "  <thead>\n",
       "    <tr style=\"text-align: right;\">\n",
       "      <th></th>\n",
       "      <th>filename</th>\n",
       "      <th>id</th>\n",
       "      <th>geometry</th>\n",
       "      <th>AOI_name</th>\n",
       "      <th>area</th>\n",
       "    </tr>\n",
       "  </thead>\n",
       "  <tbody>\n",
       "    <tr>\n",
       "      <th>0</th>\n",
       "      <td>global_monthly_2018_01_mosaic_L15-0331E-1257N_...</td>\n",
       "      <td>91</td>\n",
       "      <td>POLYGON ((814.9857745971531 845.6005742002744,...</td>\n",
       "      <td>L15-0331E-1257N_1327_3160_13</td>\n",
       "      <td>34.292637</td>\n",
       "    </tr>\n",
       "    <tr>\n",
       "      <th>1</th>\n",
       "      <td>global_monthly_2018_01_mosaic_L15-0331E-1257N_...</td>\n",
       "      <td>1452</td>\n",
       "      <td>POLYGON ((886.3093001581728 842.7000443374272,...</td>\n",
       "      <td>L15-0331E-1257N_1327_3160_13</td>\n",
       "      <td>10.483333</td>\n",
       "    </tr>\n",
       "    <tr>\n",
       "      <th>2</th>\n",
       "      <td>global_monthly_2018_01_mosaic_L15-0331E-1257N_...</td>\n",
       "      <td>1616</td>\n",
       "      <td>POLYGON ((930.1175056053326 840.4646877695341,...</td>\n",
       "      <td>L15-0331E-1257N_1327_3160_13</td>\n",
       "      <td>8.916699</td>\n",
       "    </tr>\n",
       "    <tr>\n",
       "      <th>3</th>\n",
       "      <td>global_monthly_2018_01_mosaic_L15-0331E-1257N_...</td>\n",
       "      <td>950</td>\n",
       "      <td>POLYGON ((923.3884236379527 840.6308379401453,...</td>\n",
       "      <td>L15-0331E-1257N_1327_3160_13</td>\n",
       "      <td>14.575904</td>\n",
       "    </tr>\n",
       "    <tr>\n",
       "      <th>4</th>\n",
       "      <td>global_monthly_2018_01_mosaic_L15-0331E-1257N_...</td>\n",
       "      <td>1765</td>\n",
       "      <td>POLYGON ((926.2129765632562 838.8862611351069,...</td>\n",
       "      <td>L15-0331E-1257N_1327_3160_13</td>\n",
       "      <td>7.729646</td>\n",
       "    </tr>\n",
       "    <tr>\n",
       "      <th>...</th>\n",
       "      <td>...</td>\n",
       "      <td>...</td>\n",
       "      <td>...</td>\n",
       "      <td>...</td>\n",
       "      <td>...</td>\n",
       "    </tr>\n",
       "    <tr>\n",
       "      <th>6664647</th>\n",
       "      <td>global_monthly_2020_01_mosaic_L15-1848E-0793N_...</td>\n",
       "      <td>199</td>\n",
       "      <td>POLYGON ((16.97475673863664 27.23368004325312,...</td>\n",
       "      <td>L15-1848E-0793N_7394_5018_13</td>\n",
       "      <td>15.680140</td>\n",
       "    </tr>\n",
       "    <tr>\n",
       "      <th>6664648</th>\n",
       "      <td>global_monthly_2020_01_mosaic_L15-1848E-0793N_...</td>\n",
       "      <td>215</td>\n",
       "      <td>POLYGON ((264.0363703723997 7.059356929617934,...</td>\n",
       "      <td>L15-1848E-0793N_7394_5018_13</td>\n",
       "      <td>15.183234</td>\n",
       "    </tr>\n",
       "    <tr>\n",
       "      <th>6664649</th>\n",
       "      <td>global_monthly_2020_01_mosaic_L15-1848E-0793N_...</td>\n",
       "      <td>225</td>\n",
       "      <td>POLYGON ((269.0208755340427 3.874811963876709,...</td>\n",
       "      <td>L15-1848E-0793N_7394_5018_13</td>\n",
       "      <td>14.953185</td>\n",
       "    </tr>\n",
       "    <tr>\n",
       "      <th>6664650</th>\n",
       "      <td>global_monthly_2020_01_mosaic_L15-1848E-0793N_...</td>\n",
       "      <td>648</td>\n",
       "      <td>POLYGON ((267.2209153408185 3.459436534205452,...</td>\n",
       "      <td>L15-1848E-0793N_7394_5018_13</td>\n",
       "      <td>3.489076</td>\n",
       "    </tr>\n",
       "    <tr>\n",
       "      <th>6664651</th>\n",
       "      <td>global_monthly_2020_01_mosaic_L15-1848E-0793N_...</td>\n",
       "      <td>625</td>\n",
       "      <td>POLYGON ((268.4670416307636 0.828725476050749,...</td>\n",
       "      <td>L15-1848E-0793N_7394_5018_13</td>\n",
       "      <td>5.521176</td>\n",
       "    </tr>\n",
       "  </tbody>\n",
       "</table>\n",
       "<p>6664652 rows × 5 columns</p>\n",
       "</div>"
      ],
      "text/plain": [
       "                                                  filename    id  \\\n",
       "0        global_monthly_2018_01_mosaic_L15-0331E-1257N_...    91   \n",
       "1        global_monthly_2018_01_mosaic_L15-0331E-1257N_...  1452   \n",
       "2        global_monthly_2018_01_mosaic_L15-0331E-1257N_...  1616   \n",
       "3        global_monthly_2018_01_mosaic_L15-0331E-1257N_...   950   \n",
       "4        global_monthly_2018_01_mosaic_L15-0331E-1257N_...  1765   \n",
       "...                                                    ...   ...   \n",
       "6664647  global_monthly_2020_01_mosaic_L15-1848E-0793N_...   199   \n",
       "6664648  global_monthly_2020_01_mosaic_L15-1848E-0793N_...   215   \n",
       "6664649  global_monthly_2020_01_mosaic_L15-1848E-0793N_...   225   \n",
       "6664650  global_monthly_2020_01_mosaic_L15-1848E-0793N_...   648   \n",
       "6664651  global_monthly_2020_01_mosaic_L15-1848E-0793N_...   625   \n",
       "\n",
       "                                                  geometry  \\\n",
       "0        POLYGON ((814.9857745971531 845.6005742002744,...   \n",
       "1        POLYGON ((886.3093001581728 842.7000443374272,...   \n",
       "2        POLYGON ((930.1175056053326 840.4646877695341,...   \n",
       "3        POLYGON ((923.3884236379527 840.6308379401453,...   \n",
       "4        POLYGON ((926.2129765632562 838.8862611351069,...   \n",
       "...                                                    ...   \n",
       "6664647  POLYGON ((16.97475673863664 27.23368004325312,...   \n",
       "6664648  POLYGON ((264.0363703723997 7.059356929617934,...   \n",
       "6664649  POLYGON ((269.0208755340427 3.874811963876709,...   \n",
       "6664650  POLYGON ((267.2209153408185 3.459436534205452,...   \n",
       "6664651  POLYGON ((268.4670416307636 0.828725476050749,...   \n",
       "\n",
       "                             AOI_name       area  \n",
       "0        L15-0331E-1257N_1327_3160_13  34.292637  \n",
       "1        L15-0331E-1257N_1327_3160_13  10.483333  \n",
       "2        L15-0331E-1257N_1327_3160_13   8.916699  \n",
       "3        L15-0331E-1257N_1327_3160_13  14.575904  \n",
       "4        L15-0331E-1257N_1327_3160_13   7.729646  \n",
       "...                               ...        ...  \n",
       "6664647  L15-1848E-0793N_7394_5018_13  15.680140  \n",
       "6664648  L15-1848E-0793N_7394_5018_13  15.183234  \n",
       "6664649  L15-1848E-0793N_7394_5018_13  14.953185  \n",
       "6664650  L15-1848E-0793N_7394_5018_13   3.489076  \n",
       "6664651  L15-1848E-0793N_7394_5018_13   5.521176  \n",
       "\n",
       "[6664652 rows x 5 columns]"
      ]
     },
     "execution_count": 8,
     "metadata": {},
     "output_type": "execute_result"
    }
   ],
   "source": [
    "df"
   ]
  },
  {
   "cell_type": "code",
   "execution_count": 9,
   "id": "f5edaebd-90d7-4b43-8b85-24d47768438e",
   "metadata": {},
   "outputs": [],
   "source": [
    "df = df[df['area'] > 50]"
   ]
  },
  {
   "cell_type": "code",
   "execution_count": 10,
   "id": "147a06ed-e8be-43db-9301-03f55bec6a5b",
   "metadata": {},
   "outputs": [
    {
     "data": {
      "text/html": [
       "<div>\n",
       "<style scoped>\n",
       "    .dataframe tbody tr th:only-of-type {\n",
       "        vertical-align: middle;\n",
       "    }\n",
       "\n",
       "    .dataframe tbody tr th {\n",
       "        vertical-align: top;\n",
       "    }\n",
       "\n",
       "    .dataframe thead th {\n",
       "        text-align: right;\n",
       "    }\n",
       "</style>\n",
       "<table border=\"1\" class=\"dataframe\">\n",
       "  <thead>\n",
       "    <tr style=\"text-align: right;\">\n",
       "      <th></th>\n",
       "      <th>filename</th>\n",
       "      <th>id</th>\n",
       "      <th>geometry</th>\n",
       "      <th>AOI_name</th>\n",
       "      <th>area</th>\n",
       "    </tr>\n",
       "  </thead>\n",
       "  <tbody>\n",
       "    <tr>\n",
       "      <th>76</th>\n",
       "      <td>global_monthly_2018_01_mosaic_L15-0331E-1257N_...</td>\n",
       "      <td>8</td>\n",
       "      <td>POLYGON ((853.4530931916088 580.1451211456442,...</td>\n",
       "      <td>L15-0331E-1257N_1327_3160_13</td>\n",
       "      <td>81.723780</td>\n",
       "    </tr>\n",
       "    <tr>\n",
       "      <th>99</th>\n",
       "      <td>global_monthly_2018_01_mosaic_L15-0331E-1257N_...</td>\n",
       "      <td>13</td>\n",
       "      <td>POLYGON ((972.6206118757837 185.2943601929583,...</td>\n",
       "      <td>L15-0331E-1257N_1327_3160_13</td>\n",
       "      <td>63.849332</td>\n",
       "    </tr>\n",
       "    <tr>\n",
       "      <th>206</th>\n",
       "      <td>global_monthly_2018_01_mosaic_L15-0331E-1257N_...</td>\n",
       "      <td>6</td>\n",
       "      <td>POLYGON ((843.028692943044 988.2098052890506, ...</td>\n",
       "      <td>L15-0331E-1257N_1327_3160_13</td>\n",
       "      <td>100.849761</td>\n",
       "    </tr>\n",
       "    <tr>\n",
       "      <th>207</th>\n",
       "      <td>global_monthly_2018_01_mosaic_L15-0331E-1257N_...</td>\n",
       "      <td>0</td>\n",
       "      <td>POLYGON ((999.4021273562685 982.1907845423557,...</td>\n",
       "      <td>L15-0331E-1257N_1327_3160_13</td>\n",
       "      <td>193.462005</td>\n",
       "    </tr>\n",
       "    <tr>\n",
       "      <th>352</th>\n",
       "      <td>global_monthly_2018_01_mosaic_L15-0331E-1257N_...</td>\n",
       "      <td>24</td>\n",
       "      <td>POLYGON ((696.1386488280259 861.7867393494816,...</td>\n",
       "      <td>L15-0331E-1257N_1327_3160_13</td>\n",
       "      <td>55.978589</td>\n",
       "    </tr>\n",
       "    <tr>\n",
       "      <th>...</th>\n",
       "      <td>...</td>\n",
       "      <td>...</td>\n",
       "      <td>...</td>\n",
       "      <td>...</td>\n",
       "      <td>...</td>\n",
       "    </tr>\n",
       "    <tr>\n",
       "      <th>6664563</th>\n",
       "      <td>global_monthly_2020_01_mosaic_L15-1848E-0793N_...</td>\n",
       "      <td>1518</td>\n",
       "      <td>POLYGON ((18.11734638782218 633.2970468353014,...</td>\n",
       "      <td>L15-1848E-0793N_7394_5018_13</td>\n",
       "      <td>180.857590</td>\n",
       "    </tr>\n",
       "    <tr>\n",
       "      <th>6664568</th>\n",
       "      <td>global_monthly_2020_01_mosaic_L15-1848E-0793N_...</td>\n",
       "      <td>1402</td>\n",
       "      <td>POLYGON ((79.24239375861362 600.3223710649181,...</td>\n",
       "      <td>L15-1848E-0793N_7394_5018_13</td>\n",
       "      <td>1660.314578</td>\n",
       "    </tr>\n",
       "    <tr>\n",
       "      <th>6664578</th>\n",
       "      <td>global_monthly_2020_01_mosaic_L15-1848E-0793N_...</td>\n",
       "      <td>1403</td>\n",
       "      <td>POLYGON ((26.71673442050815 609.0007599940291,...</td>\n",
       "      <td>L15-1848E-0793N_7394_5018_13</td>\n",
       "      <td>852.879813</td>\n",
       "    </tr>\n",
       "    <tr>\n",
       "      <th>6664614</th>\n",
       "      <td>global_monthly_2020_01_mosaic_L15-1848E-0793N_...</td>\n",
       "      <td>12</td>\n",
       "      <td>POLYGON ((388.1320877843536 451.8924741472583,...</td>\n",
       "      <td>L15-1848E-0793N_7394_5018_13</td>\n",
       "      <td>65.263475</td>\n",
       "    </tr>\n",
       "    <tr>\n",
       "      <th>6664615</th>\n",
       "      <td>global_monthly_2020_01_mosaic_L15-1848E-0793N_...</td>\n",
       "      <td>11</td>\n",
       "      <td>POLYGON ((394.2796441516839 452.8893751791911,...</td>\n",
       "      <td>L15-1848E-0793N_7394_5018_13</td>\n",
       "      <td>72.121338</td>\n",
       "    </tr>\n",
       "  </tbody>\n",
       "</table>\n",
       "<p>195274 rows × 5 columns</p>\n",
       "</div>"
      ],
      "text/plain": [
       "                                                  filename    id  \\\n",
       "76       global_monthly_2018_01_mosaic_L15-0331E-1257N_...     8   \n",
       "99       global_monthly_2018_01_mosaic_L15-0331E-1257N_...    13   \n",
       "206      global_monthly_2018_01_mosaic_L15-0331E-1257N_...     6   \n",
       "207      global_monthly_2018_01_mosaic_L15-0331E-1257N_...     0   \n",
       "352      global_monthly_2018_01_mosaic_L15-0331E-1257N_...    24   \n",
       "...                                                    ...   ...   \n",
       "6664563  global_monthly_2020_01_mosaic_L15-1848E-0793N_...  1518   \n",
       "6664568  global_monthly_2020_01_mosaic_L15-1848E-0793N_...  1402   \n",
       "6664578  global_monthly_2020_01_mosaic_L15-1848E-0793N_...  1403   \n",
       "6664614  global_monthly_2020_01_mosaic_L15-1848E-0793N_...    12   \n",
       "6664615  global_monthly_2020_01_mosaic_L15-1848E-0793N_...    11   \n",
       "\n",
       "                                                  geometry  \\\n",
       "76       POLYGON ((853.4530931916088 580.1451211456442,...   \n",
       "99       POLYGON ((972.6206118757837 185.2943601929583,...   \n",
       "206      POLYGON ((843.028692943044 988.2098052890506, ...   \n",
       "207      POLYGON ((999.4021273562685 982.1907845423557,...   \n",
       "352      POLYGON ((696.1386488280259 861.7867393494816,...   \n",
       "...                                                    ...   \n",
       "6664563  POLYGON ((18.11734638782218 633.2970468353014,...   \n",
       "6664568  POLYGON ((79.24239375861362 600.3223710649181,...   \n",
       "6664578  POLYGON ((26.71673442050815 609.0007599940291,...   \n",
       "6664614  POLYGON ((388.1320877843536 451.8924741472583,...   \n",
       "6664615  POLYGON ((394.2796441516839 452.8893751791911,...   \n",
       "\n",
       "                             AOI_name         area  \n",
       "76       L15-0331E-1257N_1327_3160_13    81.723780  \n",
       "99       L15-0331E-1257N_1327_3160_13    63.849332  \n",
       "206      L15-0331E-1257N_1327_3160_13   100.849761  \n",
       "207      L15-0331E-1257N_1327_3160_13   193.462005  \n",
       "352      L15-0331E-1257N_1327_3160_13    55.978589  \n",
       "...                               ...          ...  \n",
       "6664563  L15-1848E-0793N_7394_5018_13   180.857590  \n",
       "6664568  L15-1848E-0793N_7394_5018_13  1660.314578  \n",
       "6664578  L15-1848E-0793N_7394_5018_13   852.879813  \n",
       "6664614  L15-1848E-0793N_7394_5018_13    65.263475  \n",
       "6664615  L15-1848E-0793N_7394_5018_13    72.121338  \n",
       "\n",
       "[195274 rows x 5 columns]"
      ]
     },
     "execution_count": 10,
     "metadata": {},
     "output_type": "execute_result"
    }
   ],
   "source": [
    "df"
   ]
  },
  {
   "cell_type": "code",
   "execution_count": 20,
   "id": "f56bb7f6-bba5-4ef6-80a7-e928f0afb63e",
   "metadata": {},
   "outputs": [
    {
     "data": {
      "text/plain": [
       "0.02929995444623365"
      ]
     },
     "execution_count": 20,
     "metadata": {},
     "output_type": "execute_result"
    }
   ],
   "source": [
    "195274/6664652"
   ]
  },
  {
   "cell_type": "markdown",
   "id": "ee4e97e2-9032-42d0-9fef-be033d421cdf",
   "metadata": {},
   "source": [
    "### Split dataset"
   ]
  },
  {
   "cell_type": "code",
   "execution_count": 25,
   "id": "961d2af5-911d-404d-b6f1-63289142a6f9",
   "metadata": {},
   "outputs": [],
   "source": [
    "train_valid = []\n",
    "test = []\n",
    "for _, group in df.groupby('AOI_name'):\n",
    "    coin_toss = np.random.uniform()\n",
    "\n",
    "    if coin_toss <= (percent_in_train + percent_in_valid):\n",
    "        train_valid.append(group)\n",
    "    else:\n",
    "        test.append(group)"
   ]
  },
  {
   "cell_type": "code",
   "execution_count": 26,
   "id": "a53ad7d8-5db8-41fc-8e4f-3712233da867",
   "metadata": {},
   "outputs": [
    {
     "data": {
      "text/plain": [
       "(59, 1)"
      ]
     },
     "execution_count": 26,
     "metadata": {},
     "output_type": "execute_result"
    }
   ],
   "source": [
    "len(train_valid), len(test)"
   ]
  },
  {
   "cell_type": "code",
   "execution_count": 27,
   "id": "3782e74c-0116-4b13-ab15-7c2aca42d55f",
   "metadata": {},
   "outputs": [],
   "source": [
    "train_valid_df = pd.concat(train_valid)"
   ]
  },
  {
   "cell_type": "code",
   "execution_count": 28,
   "id": "60664349-f9e9-427b-8f99-23db322f7244",
   "metadata": {},
   "outputs": [],
   "source": [
    "files_stats_df = train_valid_df.drop_duplicates('filename')[['filename', 'AOI_name']].copy()"
   ]
  },
  {
   "cell_type": "code",
   "execution_count": 29,
   "id": "b30064f7-49de-441e-bbff-31ff672b8b38",
   "metadata": {},
   "outputs": [
    {
     "ename": "KeyError",
     "evalue": "'area'",
     "output_type": "error",
     "traceback": [
      "\u001b[0;31m---------------------------------------------------------------------------\u001b[0m",
      "\u001b[0;31mKeyError\u001b[0m                                  Traceback (most recent call last)",
      "File \u001b[0;32m~/miniconda3/envs/change_detection/lib/python3.12/site-packages/pandas/core/indexes/base.py:3805\u001b[0m, in \u001b[0;36mIndex.get_loc\u001b[0;34m(self, key)\u001b[0m\n\u001b[1;32m   3804\u001b[0m \u001b[38;5;28;01mtry\u001b[39;00m:\n\u001b[0;32m-> 3805\u001b[0m     \u001b[38;5;28;01mreturn\u001b[39;00m \u001b[38;5;28;43mself\u001b[39;49m\u001b[38;5;241;43m.\u001b[39;49m\u001b[43m_engine\u001b[49m\u001b[38;5;241;43m.\u001b[39;49m\u001b[43mget_loc\u001b[49m\u001b[43m(\u001b[49m\u001b[43mcasted_key\u001b[49m\u001b[43m)\u001b[49m\n\u001b[1;32m   3806\u001b[0m \u001b[38;5;28;01mexcept\u001b[39;00m \u001b[38;5;167;01mKeyError\u001b[39;00m \u001b[38;5;28;01mas\u001b[39;00m err:\n",
      "File \u001b[0;32mindex.pyx:167\u001b[0m, in \u001b[0;36mpandas._libs.index.IndexEngine.get_loc\u001b[0;34m()\u001b[0m\n",
      "File \u001b[0;32mindex.pyx:196\u001b[0m, in \u001b[0;36mpandas._libs.index.IndexEngine.get_loc\u001b[0;34m()\u001b[0m\n",
      "File \u001b[0;32mpandas/_libs/hashtable_class_helper.pxi:7081\u001b[0m, in \u001b[0;36mpandas._libs.hashtable.PyObjectHashTable.get_item\u001b[0;34m()\u001b[0m\n",
      "File \u001b[0;32mpandas/_libs/hashtable_class_helper.pxi:7089\u001b[0m, in \u001b[0;36mpandas._libs.hashtable.PyObjectHashTable.get_item\u001b[0;34m()\u001b[0m\n",
      "\u001b[0;31mKeyError\u001b[0m: 'area'",
      "\nThe above exception was the direct cause of the following exception:\n",
      "\u001b[0;31mKeyError\u001b[0m                                  Traceback (most recent call last)",
      "Cell \u001b[0;32mIn[29], line 1\u001b[0m\n\u001b[0;32m----> 1\u001b[0m files_stats_df[\u001b[38;5;124m'\u001b[39m\u001b[38;5;124marea_median\u001b[39m\u001b[38;5;124m'\u001b[39m] \u001b[38;5;241m=\u001b[39m \u001b[43mfiles_stats_df\u001b[49m\u001b[43m[\u001b[49m\u001b[38;5;124;43m'\u001b[39;49m\u001b[38;5;124;43mfilename\u001b[39;49m\u001b[38;5;124;43m'\u001b[39;49m\u001b[43m]\u001b[49m\u001b[38;5;241;43m.\u001b[39;49m\u001b[43mapply\u001b[49m\u001b[43m(\u001b[49m\u001b[38;5;28;43;01mlambda\u001b[39;49;00m\u001b[43m \u001b[49m\u001b[43mx\u001b[49m\u001b[43m:\u001b[49m\u001b[43m \u001b[49m\u001b[43mnp\u001b[49m\u001b[38;5;241;43m.\u001b[39;49m\u001b[43mpercentile\u001b[49m\u001b[43m(\u001b[49m\u001b[43mtrain_valid_df\u001b[49m\u001b[43m[\u001b[49m\u001b[43mtrain_valid_df\u001b[49m\u001b[43m[\u001b[49m\u001b[38;5;124;43m'\u001b[39;49m\u001b[38;5;124;43mfilename\u001b[39;49m\u001b[38;5;124;43m'\u001b[39;49m\u001b[43m]\u001b[49m\u001b[43m \u001b[49m\u001b[38;5;241;43m==\u001b[39;49m\u001b[43m \u001b[49m\u001b[43mx\u001b[49m\u001b[43m]\u001b[49m\u001b[43m[\u001b[49m\u001b[38;5;124;43m'\u001b[39;49m\u001b[38;5;124;43marea\u001b[39;49m\u001b[38;5;124;43m'\u001b[39;49m\u001b[43m]\u001b[49m\u001b[43m,\u001b[49m\u001b[43m \u001b[49m\u001b[38;5;241;43m0.5\u001b[39;49m\u001b[43m)\u001b[49m\u001b[43m)\u001b[49m\n\u001b[1;32m      2\u001b[0m files_stats_df[\u001b[38;5;124m'\u001b[39m\u001b[38;5;124marea_min\u001b[39m\u001b[38;5;124m'\u001b[39m] \u001b[38;5;241m=\u001b[39m files_stats_df[\u001b[38;5;124m'\u001b[39m\u001b[38;5;124mfilename\u001b[39m\u001b[38;5;124m'\u001b[39m]\u001b[38;5;241m.\u001b[39mapply(\u001b[38;5;28;01mlambda\u001b[39;00m x: np\u001b[38;5;241m.\u001b[39mmin(train_valid_df[train_valid_df[\u001b[38;5;124m'\u001b[39m\u001b[38;5;124mfilename\u001b[39m\u001b[38;5;124m'\u001b[39m] \u001b[38;5;241m==\u001b[39m x][\u001b[38;5;124m'\u001b[39m\u001b[38;5;124marea\u001b[39m\u001b[38;5;124m'\u001b[39m]))\n\u001b[1;32m      3\u001b[0m files_stats_df[\u001b[38;5;124m'\u001b[39m\u001b[38;5;124marea_max\u001b[39m\u001b[38;5;124m'\u001b[39m] \u001b[38;5;241m=\u001b[39m files_stats_df[\u001b[38;5;124m'\u001b[39m\u001b[38;5;124mfilename\u001b[39m\u001b[38;5;124m'\u001b[39m]\u001b[38;5;241m.\u001b[39mapply(\u001b[38;5;28;01mlambda\u001b[39;00m x: np\u001b[38;5;241m.\u001b[39mmax(train_valid_df[train_valid_df[\u001b[38;5;124m'\u001b[39m\u001b[38;5;124mfilename\u001b[39m\u001b[38;5;124m'\u001b[39m] \u001b[38;5;241m==\u001b[39m x][\u001b[38;5;124m'\u001b[39m\u001b[38;5;124marea\u001b[39m\u001b[38;5;124m'\u001b[39m]))\n",
      "File \u001b[0;32m~/miniconda3/envs/change_detection/lib/python3.12/site-packages/pandas/core/series.py:4915\u001b[0m, in \u001b[0;36mSeries.apply\u001b[0;34m(self, func, convert_dtype, args, by_row, **kwargs)\u001b[0m\n\u001b[1;32m   4780\u001b[0m \u001b[38;5;28;01mdef\u001b[39;00m \u001b[38;5;21mapply\u001b[39m(\n\u001b[1;32m   4781\u001b[0m     \u001b[38;5;28mself\u001b[39m,\n\u001b[1;32m   4782\u001b[0m     func: AggFuncType,\n\u001b[0;32m   (...)\u001b[0m\n\u001b[1;32m   4787\u001b[0m     \u001b[38;5;241m*\u001b[39m\u001b[38;5;241m*\u001b[39mkwargs,\n\u001b[1;32m   4788\u001b[0m ) \u001b[38;5;241m-\u001b[39m\u001b[38;5;241m>\u001b[39m DataFrame \u001b[38;5;241m|\u001b[39m Series:\n\u001b[1;32m   4789\u001b[0m \u001b[38;5;250m    \u001b[39m\u001b[38;5;124;03m\"\"\"\u001b[39;00m\n\u001b[1;32m   4790\u001b[0m \u001b[38;5;124;03m    Invoke function on values of Series.\u001b[39;00m\n\u001b[1;32m   4791\u001b[0m \n\u001b[0;32m   (...)\u001b[0m\n\u001b[1;32m   4906\u001b[0m \u001b[38;5;124;03m    dtype: float64\u001b[39;00m\n\u001b[1;32m   4907\u001b[0m \u001b[38;5;124;03m    \"\"\"\u001b[39;00m\n\u001b[1;32m   4908\u001b[0m     \u001b[38;5;28;01mreturn\u001b[39;00m \u001b[43mSeriesApply\u001b[49m\u001b[43m(\u001b[49m\n\u001b[1;32m   4909\u001b[0m \u001b[43m        \u001b[49m\u001b[38;5;28;43mself\u001b[39;49m\u001b[43m,\u001b[49m\n\u001b[1;32m   4910\u001b[0m \u001b[43m        \u001b[49m\u001b[43mfunc\u001b[49m\u001b[43m,\u001b[49m\n\u001b[1;32m   4911\u001b[0m \u001b[43m        \u001b[49m\u001b[43mconvert_dtype\u001b[49m\u001b[38;5;241;43m=\u001b[39;49m\u001b[43mconvert_dtype\u001b[49m\u001b[43m,\u001b[49m\n\u001b[1;32m   4912\u001b[0m \u001b[43m        \u001b[49m\u001b[43mby_row\u001b[49m\u001b[38;5;241;43m=\u001b[39;49m\u001b[43mby_row\u001b[49m\u001b[43m,\u001b[49m\n\u001b[1;32m   4913\u001b[0m \u001b[43m        \u001b[49m\u001b[43margs\u001b[49m\u001b[38;5;241;43m=\u001b[39;49m\u001b[43margs\u001b[49m\u001b[43m,\u001b[49m\n\u001b[1;32m   4914\u001b[0m \u001b[43m        \u001b[49m\u001b[43mkwargs\u001b[49m\u001b[38;5;241;43m=\u001b[39;49m\u001b[43mkwargs\u001b[49m\u001b[43m,\u001b[49m\n\u001b[0;32m-> 4915\u001b[0m \u001b[43m    \u001b[49m\u001b[43m)\u001b[49m\u001b[38;5;241;43m.\u001b[39;49m\u001b[43mapply\u001b[49m\u001b[43m(\u001b[49m\u001b[43m)\u001b[49m\n",
      "File \u001b[0;32m~/miniconda3/envs/change_detection/lib/python3.12/site-packages/pandas/core/apply.py:1427\u001b[0m, in \u001b[0;36mSeriesApply.apply\u001b[0;34m(self)\u001b[0m\n\u001b[1;32m   1424\u001b[0m     \u001b[38;5;28;01mreturn\u001b[39;00m \u001b[38;5;28mself\u001b[39m\u001b[38;5;241m.\u001b[39mapply_compat()\n\u001b[1;32m   1426\u001b[0m \u001b[38;5;66;03m# self.func is Callable\u001b[39;00m\n\u001b[0;32m-> 1427\u001b[0m \u001b[38;5;28;01mreturn\u001b[39;00m \u001b[38;5;28;43mself\u001b[39;49m\u001b[38;5;241;43m.\u001b[39;49m\u001b[43mapply_standard\u001b[49m\u001b[43m(\u001b[49m\u001b[43m)\u001b[49m\n",
      "File \u001b[0;32m~/miniconda3/envs/change_detection/lib/python3.12/site-packages/pandas/core/apply.py:1507\u001b[0m, in \u001b[0;36mSeriesApply.apply_standard\u001b[0;34m(self)\u001b[0m\n\u001b[1;32m   1501\u001b[0m \u001b[38;5;66;03m# row-wise access\u001b[39;00m\n\u001b[1;32m   1502\u001b[0m \u001b[38;5;66;03m# apply doesn't have a `na_action` keyword and for backward compat reasons\u001b[39;00m\n\u001b[1;32m   1503\u001b[0m \u001b[38;5;66;03m# we need to give `na_action=\"ignore\"` for categorical data.\u001b[39;00m\n\u001b[1;32m   1504\u001b[0m \u001b[38;5;66;03m# TODO: remove the `na_action=\"ignore\"` when that default has been changed in\u001b[39;00m\n\u001b[1;32m   1505\u001b[0m \u001b[38;5;66;03m#  Categorical (GH51645).\u001b[39;00m\n\u001b[1;32m   1506\u001b[0m action \u001b[38;5;241m=\u001b[39m \u001b[38;5;124m\"\u001b[39m\u001b[38;5;124mignore\u001b[39m\u001b[38;5;124m\"\u001b[39m \u001b[38;5;28;01mif\u001b[39;00m \u001b[38;5;28misinstance\u001b[39m(obj\u001b[38;5;241m.\u001b[39mdtype, CategoricalDtype) \u001b[38;5;28;01melse\u001b[39;00m \u001b[38;5;28;01mNone\u001b[39;00m\n\u001b[0;32m-> 1507\u001b[0m mapped \u001b[38;5;241m=\u001b[39m \u001b[43mobj\u001b[49m\u001b[38;5;241;43m.\u001b[39;49m\u001b[43m_map_values\u001b[49m\u001b[43m(\u001b[49m\n\u001b[1;32m   1508\u001b[0m \u001b[43m    \u001b[49m\u001b[43mmapper\u001b[49m\u001b[38;5;241;43m=\u001b[39;49m\u001b[43mcurried\u001b[49m\u001b[43m,\u001b[49m\u001b[43m \u001b[49m\u001b[43mna_action\u001b[49m\u001b[38;5;241;43m=\u001b[39;49m\u001b[43maction\u001b[49m\u001b[43m,\u001b[49m\u001b[43m \u001b[49m\u001b[43mconvert\u001b[49m\u001b[38;5;241;43m=\u001b[39;49m\u001b[38;5;28;43mself\u001b[39;49m\u001b[38;5;241;43m.\u001b[39;49m\u001b[43mconvert_dtype\u001b[49m\n\u001b[1;32m   1509\u001b[0m \u001b[43m\u001b[49m\u001b[43m)\u001b[49m\n\u001b[1;32m   1511\u001b[0m \u001b[38;5;28;01mif\u001b[39;00m \u001b[38;5;28mlen\u001b[39m(mapped) \u001b[38;5;129;01mand\u001b[39;00m \u001b[38;5;28misinstance\u001b[39m(mapped[\u001b[38;5;241m0\u001b[39m], ABCSeries):\n\u001b[1;32m   1512\u001b[0m     \u001b[38;5;66;03m# GH#43986 Need to do list(mapped) in order to get treated as nested\u001b[39;00m\n\u001b[1;32m   1513\u001b[0m     \u001b[38;5;66;03m#  See also GH#25959 regarding EA support\u001b[39;00m\n\u001b[1;32m   1514\u001b[0m     \u001b[38;5;28;01mreturn\u001b[39;00m obj\u001b[38;5;241m.\u001b[39m_constructor_expanddim(\u001b[38;5;28mlist\u001b[39m(mapped), index\u001b[38;5;241m=\u001b[39mobj\u001b[38;5;241m.\u001b[39mindex)\n",
      "File \u001b[0;32m~/miniconda3/envs/change_detection/lib/python3.12/site-packages/pandas/core/base.py:921\u001b[0m, in \u001b[0;36mIndexOpsMixin._map_values\u001b[0;34m(self, mapper, na_action, convert)\u001b[0m\n\u001b[1;32m    918\u001b[0m \u001b[38;5;28;01mif\u001b[39;00m \u001b[38;5;28misinstance\u001b[39m(arr, ExtensionArray):\n\u001b[1;32m    919\u001b[0m     \u001b[38;5;28;01mreturn\u001b[39;00m arr\u001b[38;5;241m.\u001b[39mmap(mapper, na_action\u001b[38;5;241m=\u001b[39mna_action)\n\u001b[0;32m--> 921\u001b[0m \u001b[38;5;28;01mreturn\u001b[39;00m \u001b[43malgorithms\u001b[49m\u001b[38;5;241;43m.\u001b[39;49m\u001b[43mmap_array\u001b[49m\u001b[43m(\u001b[49m\u001b[43marr\u001b[49m\u001b[43m,\u001b[49m\u001b[43m \u001b[49m\u001b[43mmapper\u001b[49m\u001b[43m,\u001b[49m\u001b[43m \u001b[49m\u001b[43mna_action\u001b[49m\u001b[38;5;241;43m=\u001b[39;49m\u001b[43mna_action\u001b[49m\u001b[43m,\u001b[49m\u001b[43m \u001b[49m\u001b[43mconvert\u001b[49m\u001b[38;5;241;43m=\u001b[39;49m\u001b[43mconvert\u001b[49m\u001b[43m)\u001b[49m\n",
      "File \u001b[0;32m~/miniconda3/envs/change_detection/lib/python3.12/site-packages/pandas/core/algorithms.py:1743\u001b[0m, in \u001b[0;36mmap_array\u001b[0;34m(arr, mapper, na_action, convert)\u001b[0m\n\u001b[1;32m   1741\u001b[0m values \u001b[38;5;241m=\u001b[39m arr\u001b[38;5;241m.\u001b[39mastype(\u001b[38;5;28mobject\u001b[39m, copy\u001b[38;5;241m=\u001b[39m\u001b[38;5;28;01mFalse\u001b[39;00m)\n\u001b[1;32m   1742\u001b[0m \u001b[38;5;28;01mif\u001b[39;00m na_action \u001b[38;5;129;01mis\u001b[39;00m \u001b[38;5;28;01mNone\u001b[39;00m:\n\u001b[0;32m-> 1743\u001b[0m     \u001b[38;5;28;01mreturn\u001b[39;00m \u001b[43mlib\u001b[49m\u001b[38;5;241;43m.\u001b[39;49m\u001b[43mmap_infer\u001b[49m\u001b[43m(\u001b[49m\u001b[43mvalues\u001b[49m\u001b[43m,\u001b[49m\u001b[43m \u001b[49m\u001b[43mmapper\u001b[49m\u001b[43m,\u001b[49m\u001b[43m \u001b[49m\u001b[43mconvert\u001b[49m\u001b[38;5;241;43m=\u001b[39;49m\u001b[43mconvert\u001b[49m\u001b[43m)\u001b[49m\n\u001b[1;32m   1744\u001b[0m \u001b[38;5;28;01melse\u001b[39;00m:\n\u001b[1;32m   1745\u001b[0m     \u001b[38;5;28;01mreturn\u001b[39;00m lib\u001b[38;5;241m.\u001b[39mmap_infer_mask(\n\u001b[1;32m   1746\u001b[0m         values, mapper, mask\u001b[38;5;241m=\u001b[39misna(values)\u001b[38;5;241m.\u001b[39mview(np\u001b[38;5;241m.\u001b[39muint8), convert\u001b[38;5;241m=\u001b[39mconvert\n\u001b[1;32m   1747\u001b[0m     )\n",
      "File \u001b[0;32mlib.pyx:2972\u001b[0m, in \u001b[0;36mpandas._libs.lib.map_infer\u001b[0;34m()\u001b[0m\n",
      "Cell \u001b[0;32mIn[29], line 1\u001b[0m, in \u001b[0;36m<lambda>\u001b[0;34m(x)\u001b[0m\n\u001b[0;32m----> 1\u001b[0m files_stats_df[\u001b[38;5;124m'\u001b[39m\u001b[38;5;124marea_median\u001b[39m\u001b[38;5;124m'\u001b[39m] \u001b[38;5;241m=\u001b[39m files_stats_df[\u001b[38;5;124m'\u001b[39m\u001b[38;5;124mfilename\u001b[39m\u001b[38;5;124m'\u001b[39m]\u001b[38;5;241m.\u001b[39mapply(\u001b[38;5;28;01mlambda\u001b[39;00m x: np\u001b[38;5;241m.\u001b[39mpercentile(\u001b[43mtrain_valid_df\u001b[49m\u001b[43m[\u001b[49m\u001b[43mtrain_valid_df\u001b[49m\u001b[43m[\u001b[49m\u001b[38;5;124;43m'\u001b[39;49m\u001b[38;5;124;43mfilename\u001b[39;49m\u001b[38;5;124;43m'\u001b[39;49m\u001b[43m]\u001b[49m\u001b[43m \u001b[49m\u001b[38;5;241;43m==\u001b[39;49m\u001b[43m \u001b[49m\u001b[43mx\u001b[49m\u001b[43m]\u001b[49m\u001b[43m[\u001b[49m\u001b[38;5;124;43m'\u001b[39;49m\u001b[38;5;124;43marea\u001b[39;49m\u001b[38;5;124;43m'\u001b[39;49m\u001b[43m]\u001b[49m, \u001b[38;5;241m0.5\u001b[39m))\n\u001b[1;32m      2\u001b[0m files_stats_df[\u001b[38;5;124m'\u001b[39m\u001b[38;5;124marea_min\u001b[39m\u001b[38;5;124m'\u001b[39m] \u001b[38;5;241m=\u001b[39m files_stats_df[\u001b[38;5;124m'\u001b[39m\u001b[38;5;124mfilename\u001b[39m\u001b[38;5;124m'\u001b[39m]\u001b[38;5;241m.\u001b[39mapply(\u001b[38;5;28;01mlambda\u001b[39;00m x: np\u001b[38;5;241m.\u001b[39mmin(train_valid_df[train_valid_df[\u001b[38;5;124m'\u001b[39m\u001b[38;5;124mfilename\u001b[39m\u001b[38;5;124m'\u001b[39m] \u001b[38;5;241m==\u001b[39m x][\u001b[38;5;124m'\u001b[39m\u001b[38;5;124marea\u001b[39m\u001b[38;5;124m'\u001b[39m]))\n\u001b[1;32m      3\u001b[0m files_stats_df[\u001b[38;5;124m'\u001b[39m\u001b[38;5;124marea_max\u001b[39m\u001b[38;5;124m'\u001b[39m] \u001b[38;5;241m=\u001b[39m files_stats_df[\u001b[38;5;124m'\u001b[39m\u001b[38;5;124mfilename\u001b[39m\u001b[38;5;124m'\u001b[39m]\u001b[38;5;241m.\u001b[39mapply(\u001b[38;5;28;01mlambda\u001b[39;00m x: np\u001b[38;5;241m.\u001b[39mmax(train_valid_df[train_valid_df[\u001b[38;5;124m'\u001b[39m\u001b[38;5;124mfilename\u001b[39m\u001b[38;5;124m'\u001b[39m] \u001b[38;5;241m==\u001b[39m x][\u001b[38;5;124m'\u001b[39m\u001b[38;5;124marea\u001b[39m\u001b[38;5;124m'\u001b[39m]))\n",
      "File \u001b[0;32m~/miniconda3/envs/change_detection/lib/python3.12/site-packages/pandas/core/frame.py:4090\u001b[0m, in \u001b[0;36mDataFrame.__getitem__\u001b[0;34m(self, key)\u001b[0m\n\u001b[1;32m   4088\u001b[0m \u001b[38;5;28;01mif\u001b[39;00m \u001b[38;5;28mself\u001b[39m\u001b[38;5;241m.\u001b[39mcolumns\u001b[38;5;241m.\u001b[39mnlevels \u001b[38;5;241m>\u001b[39m \u001b[38;5;241m1\u001b[39m:\n\u001b[1;32m   4089\u001b[0m     \u001b[38;5;28;01mreturn\u001b[39;00m \u001b[38;5;28mself\u001b[39m\u001b[38;5;241m.\u001b[39m_getitem_multilevel(key)\n\u001b[0;32m-> 4090\u001b[0m indexer \u001b[38;5;241m=\u001b[39m \u001b[38;5;28;43mself\u001b[39;49m\u001b[38;5;241;43m.\u001b[39;49m\u001b[43mcolumns\u001b[49m\u001b[38;5;241;43m.\u001b[39;49m\u001b[43mget_loc\u001b[49m\u001b[43m(\u001b[49m\u001b[43mkey\u001b[49m\u001b[43m)\u001b[49m\n\u001b[1;32m   4091\u001b[0m \u001b[38;5;28;01mif\u001b[39;00m is_integer(indexer):\n\u001b[1;32m   4092\u001b[0m     indexer \u001b[38;5;241m=\u001b[39m [indexer]\n",
      "File \u001b[0;32m~/miniconda3/envs/change_detection/lib/python3.12/site-packages/pandas/core/indexes/base.py:3812\u001b[0m, in \u001b[0;36mIndex.get_loc\u001b[0;34m(self, key)\u001b[0m\n\u001b[1;32m   3807\u001b[0m     \u001b[38;5;28;01mif\u001b[39;00m \u001b[38;5;28misinstance\u001b[39m(casted_key, \u001b[38;5;28mslice\u001b[39m) \u001b[38;5;129;01mor\u001b[39;00m (\n\u001b[1;32m   3808\u001b[0m         \u001b[38;5;28misinstance\u001b[39m(casted_key, abc\u001b[38;5;241m.\u001b[39mIterable)\n\u001b[1;32m   3809\u001b[0m         \u001b[38;5;129;01mand\u001b[39;00m \u001b[38;5;28many\u001b[39m(\u001b[38;5;28misinstance\u001b[39m(x, \u001b[38;5;28mslice\u001b[39m) \u001b[38;5;28;01mfor\u001b[39;00m x \u001b[38;5;129;01min\u001b[39;00m casted_key)\n\u001b[1;32m   3810\u001b[0m     ):\n\u001b[1;32m   3811\u001b[0m         \u001b[38;5;28;01mraise\u001b[39;00m InvalidIndexError(key)\n\u001b[0;32m-> 3812\u001b[0m     \u001b[38;5;28;01mraise\u001b[39;00m \u001b[38;5;167;01mKeyError\u001b[39;00m(key) \u001b[38;5;28;01mfrom\u001b[39;00m \u001b[38;5;21;01merr\u001b[39;00m\n\u001b[1;32m   3813\u001b[0m \u001b[38;5;28;01mexcept\u001b[39;00m \u001b[38;5;167;01mTypeError\u001b[39;00m:\n\u001b[1;32m   3814\u001b[0m     \u001b[38;5;66;03m# If we have a listlike key, _check_indexing_error will raise\u001b[39;00m\n\u001b[1;32m   3815\u001b[0m     \u001b[38;5;66;03m#  InvalidIndexError. Otherwise we fall through and re-raise\u001b[39;00m\n\u001b[1;32m   3816\u001b[0m     \u001b[38;5;66;03m#  the TypeError.\u001b[39;00m\n\u001b[1;32m   3817\u001b[0m     \u001b[38;5;28mself\u001b[39m\u001b[38;5;241m.\u001b[39m_check_indexing_error(key)\n",
      "\u001b[0;31mKeyError\u001b[0m: 'area'"
     ]
    }
   ],
   "source": [
    "files_stats_df['area_median'] = files_stats_df['filename'].apply(lambda x: np.percentile(train_valid_df[train_valid_df['filename'] == x]['area'], 0.5))\n",
    "files_stats_df['area_min'] = files_stats_df['filename'].apply(lambda x: np.min(train_valid_df[train_valid_df['filename'] == x]['area']))\n",
    "files_stats_df['area_max'] = files_stats_df['filename'].apply(lambda x: np.max(train_valid_df[train_valid_df['filename'] == x]['area']))\n",
    "files_stats_df['area_25th_percentile'] = files_stats_df['filename'].apply(lambda x: np.percentile(train_valid_df[train_valid_df['filename'] == x]['area'], 0.25))\n",
    "files_stats_df['area_75th_percentile'] = files_stats_df['filename'].apply(lambda x: np.percentile(train_valid_df[train_valid_df['filename'] == x]['area'], 0.75))\n",
    "\n",
    "files_stats_df['no_buildings'] = files_stats_df['filename'].apply(lambda x: len(train_valid_df[train_valid_df['filename'] == x]['area']))"
   ]
  },
  {
   "cell_type": "code",
   "execution_count": null,
   "id": "b670eb13-4c90-4b4f-bcd3-cb81790be317",
   "metadata": {},
   "outputs": [],
   "source": [
    "files_stats_df"
   ]
  },
  {
   "cell_type": "code",
   "execution_count": null,
   "id": "66681032-21f2-4a7d-aa94-69295d6dce4d",
   "metadata": {},
   "outputs": [],
   "source": [
    "train_files_stats_df, valid_files_stats_df, = train_test_split(files_stats_df, test_size=0.1)"
   ]
  },
  {
   "cell_type": "code",
   "execution_count": null,
   "id": "da0038fe-97ef-4b68-89aa-24b3bedd1442",
   "metadata": {},
   "outputs": [],
   "source": [
    "train_files_stats_df['no_buildings'].describe()"
   ]
  },
  {
   "cell_type": "code",
   "execution_count": null,
   "id": "1613d13f-219c-4714-b5e4-31acdf394091",
   "metadata": {},
   "outputs": [],
   "source": [
    "valid_files_stats_df['no_buildings'].describe()"
   ]
  },
  {
   "cell_type": "markdown",
   "id": "6fbcba6c-1218-4476-9d69-aa2d674f4f3f",
   "metadata": {},
   "source": [
    "### Further split"
   ]
  },
  {
   "cell_type": "code",
   "execution_count": null,
   "id": "66d9e920-4cc5-4897-b019-f86e5c717f5f",
   "metadata": {},
   "outputs": [],
   "source": [
    "train = []\n",
    "valid = []\n",
    "for name, group in train_valid_df.groupby('filename'):\n",
    "    if name in list(train_files_stats_df['filename']):\n",
    "        train.append(group)\n",
    "    else:\n",
    "        valid.append(group)"
   ]
  },
  {
   "cell_type": "code",
   "execution_count": null,
   "id": "4f632622-0466-4a25-8c9b-549a9828d099",
   "metadata": {},
   "outputs": [],
   "source": [
    "train_df = pd.concat(train)\n",
    "valid_df = pd.concat(valid)\n",
    "test_df = pd.concat(test)"
   ]
  },
  {
   "cell_type": "markdown",
   "id": "a250b025-7d6c-46cd-b492-f04a737b960c",
   "metadata": {},
   "source": [
    "### Save datasets"
   ]
  },
  {
   "cell_type": "code",
   "execution_count": null,
   "id": "18ae6c02-6c48-4129-a63f-b0f8a905204b",
   "metadata": {},
   "outputs": [],
   "source": [
    "# df.to_csv(os.path.join(output_path, 'all_df.csv'))\n",
    "\n",
    "# train_df.to_csv(os.path.join(output_path, 'train.csv'))\n",
    "# valid_df.to_csv(os.path.join(output_path, 'valid.csv'))\n",
    "# test_df.to_csv(os.path.join(output_path, 'test.csv'))"
   ]
  },
  {
   "cell_type": "markdown",
   "id": "90fb1f71-b66c-47ff-ba41-be7725119fbe",
   "metadata": {},
   "source": [
    "### Load"
   ]
  },
  {
   "cell_type": "code",
   "execution_count": 15,
   "id": "6318406a-77f2-45fc-b368-9602a3100074",
   "metadata": {},
   "outputs": [],
   "source": [
    "# all_df = pd.read_csv(os.path.join(output_path, 'all_df.csv'))\n",
    "\n",
    "# train_df = pd.read_csv(os.path.join(output_path, 'train.csv'))\n",
    "# valid_df = pd.read_csv(os.path.join(output_path, 'valid.csv'))\n",
    "# test_df = pd.read_csv(os.path.join(output_path, 'test.csv'))"
   ]
  },
  {
   "cell_type": "markdown",
   "id": "b696d471-420d-465b-a8dd-02a0e375daee",
   "metadata": {},
   "source": [
    "### All"
   ]
  },
  {
   "cell_type": "code",
   "execution_count": 16,
   "id": "4e20ad50-ed7e-4f50-9ba9-766d76159eee",
   "metadata": {},
   "outputs": [
    {
     "name": "stdout",
     "output_type": "stream",
     "text": [
      "Total number of \u001b[1mAreas of interest\u001b[0m in the dataset \u001b[1m59\u001b[0m\n",
      "Total number of \u001b[1mImages\u001b[0m in the dataset \u001b[1m1372\u001b[0m\n",
      "Total number of \u001b[1munique houses\u001b[0m in the dataset \u001b[1m9,527\u001b[0m\n",
      "Total number of \u001b[1mpolygons\u001b[0m in the dataset \u001b[1m195,274\u001b[0m\n"
     ]
    }
   ],
   "source": [
    "print('Total number of \\033[1mAreas of interest\\033[0m in the dataset \\033[1m{}\\033[0m'.format(len(all_df.drop_duplicates(['AOI_name']))))\n",
    "print('Total number of \\033[1mImages\\033[0m in the dataset \\033[1m{}\\033[0m'.format(len(all_df.drop_duplicates(['filename']))))\n",
    "\n",
    "print('Total number of \\033[1munique houses\\033[0m in the dataset \\033[1m{:,.0f}\\033[0m'.format(len(all_df.drop_duplicates(['AOI_name', 'id']))))\n",
    "print('Total number of \\033[1mpolygons\\033[0m in the dataset \\033[1m{:,.0f}\\033[0m'.format(len(all_df)))"
   ]
  },
  {
   "cell_type": "markdown",
   "id": "3dd05bfd-0e6c-46e0-8fac-28ce9eabcbc3",
   "metadata": {},
   "source": [
    "### Train"
   ]
  },
  {
   "cell_type": "code",
   "execution_count": 17,
   "id": "82e25ea6-84bd-4b3b-b99e-5b9cc970d6b6",
   "metadata": {},
   "outputs": [
    {
     "name": "stdout",
     "output_type": "stream",
     "text": [
      "Total number of \u001b[1mAreas of interest\u001b[0m in the dataset \u001b[1m54\u001b[0m\n",
      "Total number of \u001b[1mImages\u001b[0m in the dataset \u001b[1m1131\u001b[0m\n",
      "Total number of \u001b[1munique houses\u001b[0m in the dataset \u001b[1m8,521\u001b[0m\n",
      "Total number of \u001b[1mpolygons\u001b[0m in the dataset \u001b[1m155,180\u001b[0m\n"
     ]
    }
   ],
   "source": [
    "print('Total number of \\033[1mAreas of interest\\033[0m in the dataset \\033[1m{}\\033[0m'.format(len(train_df.drop_duplicates(['AOI_name']))))\n",
    "print('Total number of \\033[1mImages\\033[0m in the dataset \\033[1m{}\\033[0m'.format(len(train_df.drop_duplicates(['filename']))))\n",
    "\n",
    "print('Total number of \\033[1munique houses\\033[0m in the dataset \\033[1m{:,.0f}\\033[0m'.format(len(train_df.drop_duplicates(['AOI_name', 'id']))))\n",
    "print('Total number of \\033[1mpolygons\\033[0m in the dataset \\033[1m{:,.0f}\\033[0m'.format(len(train_df)))"
   ]
  },
  {
   "cell_type": "markdown",
   "id": "1043e6b5-4ba9-45b0-aa31-9e09f84592f3",
   "metadata": {},
   "source": [
    "### Valid"
   ]
  },
  {
   "cell_type": "code",
   "execution_count": 18,
   "id": "b30d0115-b42a-485c-980b-2ca8fac9d498",
   "metadata": {},
   "outputs": [
    {
     "name": "stdout",
     "output_type": "stream",
     "text": [
      "Total number of \u001b[1mAreas of interest\u001b[0m in the dataset \u001b[1m50\u001b[0m\n",
      "Total number of \u001b[1mImages\u001b[0m in the dataset \u001b[1m126\u001b[0m\n",
      "Total number of \u001b[1munique houses\u001b[0m in the dataset \u001b[1m7,856\u001b[0m\n",
      "Total number of \u001b[1mpolygons\u001b[0m in the dataset \u001b[1m18,563\u001b[0m\n"
     ]
    }
   ],
   "source": [
    "print('Total number of \\033[1mAreas of interest\\033[0m in the dataset \\033[1m{}\\033[0m'.format(len(valid_df.drop_duplicates(['AOI_name']))))\n",
    "print('Total number of \\033[1mImages\\033[0m in the dataset \\033[1m{}\\033[0m'.format(len(valid_df.drop_duplicates(['filename']))))\n",
    "\n",
    "print('Total number of \\033[1munique houses\\033[0m in the dataset \\033[1m{:,.0f}\\033[0m'.format(len(valid_df.drop_duplicates(['AOI_name', 'id']))))\n",
    "print('Total number of \\033[1mpolygons\\033[0m in the dataset \\033[1m{:,.0f}\\033[0m'.format(len(valid_df)))"
   ]
  },
  {
   "cell_type": "markdown",
   "id": "8c601326-5757-406e-9d66-5cfcb83c8548",
   "metadata": {},
   "source": [
    "### Test"
   ]
  },
  {
   "cell_type": "code",
   "execution_count": 19,
   "id": "c500c981-7980-485d-b7c3-6fe529726c05",
   "metadata": {},
   "outputs": [
    {
     "name": "stdout",
     "output_type": "stream",
     "text": [
      "Total number of \u001b[1mAreas of interest\u001b[0m in the dataset \u001b[1m5\u001b[0m\n",
      "Total number of \u001b[1mImages\u001b[0m in the dataset \u001b[1m115\u001b[0m\n",
      "Total number of \u001b[1munique houses\u001b[0m in the dataset \u001b[1m992\u001b[0m\n",
      "Total number of \u001b[1mpolygons\u001b[0m in the dataset \u001b[1m21,531\u001b[0m\n"
     ]
    }
   ],
   "source": [
    "print('Total number of \\033[1mAreas of interest\\033[0m in the dataset \\033[1m{}\\033[0m'.format(len(test_df.drop_duplicates(['AOI_name']))))\n",
    "print('Total number of \\033[1mImages\\033[0m in the dataset \\033[1m{}\\033[0m'.format(len(test_df.drop_duplicates(['filename']))))\n",
    "\n",
    "print('Total number of \\033[1munique houses\\033[0m in the dataset \\033[1m{:,.0f}\\033[0m'.format(len(test_df.drop_duplicates(['AOI_name', 'id']))))\n",
    "print('Total number of \\033[1mpolygons\\033[0m in the dataset \\033[1m{:,.0f}\\033[0m'.format(len(test_df)))"
   ]
  },
  {
   "cell_type": "code",
   "execution_count": null,
   "id": "36acfacd-a79a-4c23-bbd8-727deb4eb2e3",
   "metadata": {},
   "outputs": [],
   "source": []
  },
  {
   "cell_type": "code",
   "execution_count": null,
   "id": "c0161124-49f0-406c-9f0b-23296f551c9b",
   "metadata": {},
   "outputs": [],
   "source": []
  }
 ],
 "metadata": {
  "kernelspec": {
   "display_name": "Python 3 (ipykernel)",
   "language": "python",
   "name": "python3"
  },
  "language_info": {
   "codemirror_mode": {
    "name": "ipython",
    "version": 3
   },
   "file_extension": ".py",
   "mimetype": "text/x-python",
   "name": "python",
   "nbconvert_exporter": "python",
   "pygments_lexer": "ipython3",
   "version": "3.12.2"
  }
 },
 "nbformat": 4,
 "nbformat_minor": 5
}
