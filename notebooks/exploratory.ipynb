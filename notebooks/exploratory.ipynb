{
 "cells": [
  {
   "cell_type": "code",
   "execution_count": null,
   "id": "f973e340-d573-41cd-a8d4-486b8871312d",
   "metadata": {},
   "outputs": [],
   "source": [
    "import cv2\n",
    "import shapely\n",
    "\n",
    "import pandas as pd\n",
    "import ipywidgets as widgets\n",
    "import rasterio as rio\n",
    "import numpy as np\n",
    "\n",
    "import matplotlib.pyplot as plt\n",
    "\n",
    "from scipy import signal\n",
    "from shapely import wkt\n",
    "from pathlib import Path\n",
    "\n",
    "from rasterio import features\n",
    "from tqdm import tqdm\n",
    "from IPython.display import display, clear_output"
   ]
  },
  {
   "cell_type": "code",
   "execution_count": null,
   "id": "d36998f8-f369-4540-ae2e-cdb2592e27b6",
   "metadata": {},
   "outputs": [],
   "source": [
    "dataset_path = Path('../../datasets/space_net_7/SN7_buildings_train/train')"
   ]
  },
  {
   "cell_type": "code",
   "execution_count": null,
   "id": "44a37783-d538-4248-9eb3-1725ffbe6668",
   "metadata": {},
   "outputs": [],
   "source": [
    "df = pd.read_csv('../../datasets/space_net_7/SN7_buildings_train_csvs/csvs/sn7_train_ground_truth_pix.csv')\n",
    "df.head()"
   ]
  },
  {
   "cell_type": "code",
   "execution_count": null,
   "id": "e6d10e57-e1eb-4cb0-8fee-f58b0864c6a0",
   "metadata": {},
   "outputs": [],
   "source": [
    "df['AOI_name'] = df['filename'].apply(lambda x: x.split('_mosaic_')[1])\n",
    "df.head()"
   ]
  },
  {
   "cell_type": "code",
   "execution_count": null,
   "id": "524e60bf-67e8-4c24-9e54-23e773ccbc44",
   "metadata": {},
   "outputs": [],
   "source": [
    "print('Total number of \\033[1mAreas of interest\\033[0m in the dataset \\033[1m{}\\033[0m'.format(len(df.drop_duplicates(['AOI_name']))))\n",
    "print('Total number of \\033[1mImages\\033[0m in the dataset \\033[1m{}\\033[0m'.format(len(df.drop_duplicates(['filename']))))\n",
    "\n",
    "print('Total number of \\033[1munique houses\\033[0m in the dataset \\033[1m{:,.0f}\\033[0m'.format(len(df.drop_duplicates(['AOI_name', 'id']))))\n",
    "print('Total number of \\033[1mpolygons\\033[0m in the dataset \\033[1m{:,.0f}\\033[0m'.format(len(df)))"
   ]
  },
  {
   "cell_type": "markdown",
   "id": "94e4ad67-5edb-4302-b068-532a8fb6b1a7",
   "metadata": {},
   "source": [
    "### Number of unique houses for each Area of Interest"
   ]
  },
  {
   "cell_type": "code",
   "execution_count": null,
   "id": "6702e245-9ebd-4a11-91a2-fc4adfacad8a",
   "metadata": {
    "scrolled": true
   },
   "outputs": [],
   "source": [
    "df.drop_duplicates(['AOI_name', 'id'])['AOI_name'].value_counts()"
   ]
  },
  {
   "cell_type": "markdown",
   "id": "fca2da0d-4c8a-46c9-9d93-1607ccc1f408",
   "metadata": {},
   "source": [
    "### Number of images per AOI"
   ]
  },
  {
   "cell_type": "code",
   "execution_count": null,
   "id": "43697c0a-ad0a-4eab-9d10-b6e4298f3c3b",
   "metadata": {
    "scrolled": true
   },
   "outputs": [],
   "source": [
    "df.drop_duplicates(['filename', 'AOI_name'])[['AOI_name']].value_counts()"
   ]
  },
  {
   "cell_type": "code",
   "execution_count": null,
   "id": "05fead37-e7cb-4642-89b0-6a2614182c86",
   "metadata": {},
   "outputs": [],
   "source": [
    "df"
   ]
  },
  {
   "cell_type": "code",
   "execution_count": null,
   "id": "42d9d2ae-c0a1-4ba7-a281-332e8b55370d",
   "metadata": {},
   "outputs": [],
   "source": [
    "df['area'] = df['geometry'].apply(lambda x: wkt.loads(x).area)"
   ]
  },
  {
   "cell_type": "code",
   "execution_count": null,
   "id": "d12e0312-d8d8-4216-be1e-c71c08832e81",
   "metadata": {},
   "outputs": [],
   "source": [
    "df['area'].describe(percentiles=[0.25, 0.5, 0.75, 0.95, 0.99])"
   ]
  },
  {
   "cell_type": "markdown",
   "id": "91070cad-fcba-4950-82bd-3b050bbb8000",
   "metadata": {},
   "source": [
    "### Do polygons update over time?"
   ]
  },
  {
   "cell_type": "code",
   "execution_count": null,
   "id": "18b84480-bc37-41e6-ac38-be4cc1d4369d",
   "metadata": {},
   "outputs": [],
   "source": [
    "evolving_groups = {}\n",
    "\n",
    "for name, group in tqdm(df.groupby(['AOI_name', 'id'])):\n",
    "    if len(set(np.round(group['area'], 5))) != 1:\n",
    "        evolving_groups[name] = group"
   ]
  },
  {
   "cell_type": "code",
   "execution_count": null,
   "id": "e5d401ee-3494-4e74-8b16-59e1069480cd",
   "metadata": {
    "scrolled": true
   },
   "outputs": [],
   "source": [
    "len(evolving_groups.keys())"
   ]
  },
  {
   "cell_type": "code",
   "execution_count": null,
   "id": "94385deb-7063-452b-ada4-ae2ba9215734",
   "metadata": {},
   "outputs": [],
   "source": [
    "list(evolving_groups.keys())[12]"
   ]
  },
  {
   "cell_type": "code",
   "execution_count": null,
   "id": "b6bdb8b0-b644-4c4e-a887-18aa764a4b52",
   "metadata": {},
   "outputs": [],
   "source": [
    "evolving_groups[list(evolving_groups.keys())[12]]"
   ]
  },
  {
   "cell_type": "markdown",
   "id": "7ded89b4-9ec3-4d25-b892-4333cfbee929",
   "metadata": {},
   "source": [
    "### Visualize polygons examples"
   ]
  },
  {
   "cell_type": "code",
   "execution_count": null,
   "id": "df36e79d-1a74-42d0-af94-f4de471c62d8",
   "metadata": {},
   "outputs": [],
   "source": [
    "def create_scatter(aoi_name, satellite_image):\n",
    "    polygons = list(df[(df['AOI_name'] == aoi_name)].drop_duplicates('id', keep='last')['geometry'])\n",
    "    plt.figure(figsize=(14, 14))\n",
    "    \n",
    "    if satellite_image:\n",
    "        file_name = sorted(list(set(df[df['AOI_name'] == aoi_name]['filename'])))[-1]\n",
    "        image_path = dataset_path / aoi_name / 'images' / '{}.tif'.format(file_name)\n",
    "    \n",
    "        r = rio.open(image_path).read()\n",
    "        r = r.transpose((1,2,0,))\n",
    "\n",
    "        plt.imshow(r, origin='lower')\n",
    "\n",
    "    for polygon in polygons:\n",
    "        xs, ys = zip(*shapely.get_coordinates(wkt.loads(polygon)))\n",
    "        \n",
    "        plt.plot(xs,ys) \n",
    "    \n",
    "    plt.show()"
   ]
  },
  {
   "cell_type": "code",
   "execution_count": null,
   "id": "4725b0f5-303b-4912-8400-8bb3b56c7f83",
   "metadata": {},
   "outputs": [],
   "source": [
    "widgets.interact(create_scatter, aoi_name=set(df['AOI_name']), satellite_image=[False, True])"
   ]
  },
  {
   "cell_type": "markdown",
   "id": "090104d9-f501-48ee-b5d6-e99f47fcb4d3",
   "metadata": {},
   "source": [
    "### Create mask"
   ]
  },
  {
   "cell_type": "code",
   "execution_count": null,
   "id": "df35547a-8b7a-48b2-a76f-e979d87468e3",
   "metadata": {},
   "outputs": [],
   "source": [
    "aoi_name = np.random.choice(list(set(df['AOI_name'])))\n",
    "aoi_name"
   ]
  },
  {
   "cell_type": "code",
   "execution_count": null,
   "id": "203602ae-3bfb-4846-9c85-c93f4b1d2ba5",
   "metadata": {},
   "outputs": [],
   "source": [
    "file_name = sorted(list(set(df[df['AOI_name'] == aoi_name]['filename'])))[-1]\n",
    "image_path = dataset_path / aoi_name / 'images' / '{}.tif'.format(file_name)\n",
    "\n",
    "polygons = list(df[(df['AOI_name'] == aoi_name) & (df['filename'] == file_name)]['geometry'])\n",
    "\n",
    "r = rio.open(image_path).read()\n",
    "r = r.transpose((1,2,0,))"
   ]
  },
  {
   "cell_type": "code",
   "execution_count": null,
   "id": "60fbc459-c71d-4657-8915-395ce691c89c",
   "metadata": {},
   "outputs": [],
   "source": [
    "mask = features.rasterize(((wkt.loads(polygon), 255) for polygon in polygons), out_shape=r.shape[:2])"
   ]
  },
  {
   "cell_type": "code",
   "execution_count": null,
   "id": "578a3a13-bbb8-47a3-8d47-c5c9153603f5",
   "metadata": {},
   "outputs": [],
   "source": [
    "fig, axs = plt.subplots(1, 2, figsize=(14, 14))\n",
    "\n",
    "axs[0].imshow(r)\n",
    "axs[1].imshow(mask)"
   ]
  },
  {
   "cell_type": "markdown",
   "id": "8392d7d0-ed39-46da-a53d-d3e7ee4ffced",
   "metadata": {},
   "source": [
    "### visualzie crops"
   ]
  },
  {
   "cell_type": "code",
   "execution_count": null,
   "id": "984a9f72-349d-4348-9cb3-b0c5ef3c401e",
   "metadata": {},
   "outputs": [],
   "source": [
    "patch_size = 256"
   ]
  },
  {
   "cell_type": "code",
   "execution_count": null,
   "id": "2005372a-0967-4635-9ef5-0bfe799ba5fc",
   "metadata": {},
   "outputs": [],
   "source": [
    "x = np.random.randint(0, r.shape[0] - patch_size)\n",
    "y = np.random.randint(0, r.shape[1] - patch_size)\n",
    "x, y"
   ]
  },
  {
   "cell_type": "code",
   "execution_count": null,
   "id": "6da8cd46-4baa-47c4-b39b-ba6d99023461",
   "metadata": {},
   "outputs": [],
   "source": [
    "crop = r[x: x + patch_size, y: y + patch_size]\n",
    "crop_mask = mask[x: x + patch_size, y: y + patch_size]"
   ]
  },
  {
   "cell_type": "code",
   "execution_count": null,
   "id": "1a846b18-ac2c-4147-b413-072f3966bbd6",
   "metadata": {},
   "outputs": [],
   "source": [
    "fig, axs = plt.subplots(1, 2, figsize=(14, 14))\n",
    "\n",
    "axs[0].imshow(crop)\n",
    "axs[1].imshow(crop_mask)"
   ]
  },
  {
   "cell_type": "markdown",
   "id": "d12d9a7a-562e-49e7-a6b1-b4e9ccb97b88",
   "metadata": {},
   "source": [
    "### Visualize timelapses"
   ]
  },
  {
   "cell_type": "code",
   "execution_count": null,
   "id": "fdd8b9f2-57c0-4dc2-a74d-ef4700f9e0b9",
   "metadata": {},
   "outputs": [],
   "source": [
    "def get_image_and_mask(image_path, aoi_name, file_name):\n",
    "    r = rio.open(image_path).read()\n",
    "\n",
    "    image = r.transpose((1, 2, 0))[:, :, :-1]\n",
    "\n",
    "    polygons = list(df[(df['AOI_name'] == aoi_name) & (df['filename'] == file_name)]['geometry'])\n",
    "    mask = features.rasterize(((wkt.loads(polygon), 255) for polygon in polygons), out_shape=image.shape[:2])\n",
    "    \n",
    "    return image, mask"
   ]
  },
  {
   "cell_type": "code",
   "execution_count": null,
   "id": "64bfbb8e-e1e4-4662-a10e-a4feff409d69",
   "metadata": {},
   "outputs": [],
   "source": [
    "aoi_name = np.random.choice(list(set(df['AOI_name'])))\n",
    "aoi_name"
   ]
  },
  {
   "cell_type": "code",
   "execution_count": null,
   "id": "27ebc756-4d1f-4676-b80f-b24d7781327d",
   "metadata": {},
   "outputs": [],
   "source": [
    "file_names = sorted(list(set(df[df['AOI_name'] == aoi_name]['filename'])))"
   ]
  },
  {
   "cell_type": "code",
   "execution_count": null,
   "id": "e8f0b6b1-fdca-4fcb-a0e6-7df07355f666",
   "metadata": {},
   "outputs": [],
   "source": [
    "file_dict = {file_name: get_image_and_mask(dataset_path / aoi_name / 'images_masked' / '{}.tif'.format(file_name), aoi_name, file_name) for file_name in tqdm(file_names)}"
   ]
  },
  {
   "cell_type": "code",
   "execution_count": null,
   "id": "2cfff0dc-1ad2-4b15-b8ae-d43dac47095f",
   "metadata": {},
   "outputs": [],
   "source": [
    "def visualize(index):\n",
    "    _, _ = plt.subplots(figsize=(18, 18))\n",
    "    file_name = file_names[index]\n",
    "\n",
    "    img, mask = file_dict[file_name]\n",
    "\n",
    "    img_to_viz = np.hstack([img, np.repeat(mask[:, :, None], 3, axis=-1)])\n",
    "\n",
    "    plt.imshow(img_to_viz)"
   ]
  },
  {
   "cell_type": "code",
   "execution_count": null,
   "id": "e6134640-0d8b-4c48-b0a9-b7ed30d7ceb0",
   "metadata": {},
   "outputs": [],
   "source": [
    "widgets.interact(visualize, index=widgets.IntSlider(min=0, max=len(file_names)-1, step=1, value=0))"
   ]
  },
  {
   "cell_type": "markdown",
   "id": "1ed6d847-d447-468c-a40a-7f6268a3a914",
   "metadata": {},
   "source": [
    "### Compute differences"
   ]
  },
  {
   "cell_type": "code",
   "execution_count": null,
   "id": "54c456b1-d291-4555-9183-900c32c36ec9",
   "metadata": {},
   "outputs": [],
   "source": [
    "file_name_1, file_name_2 = sorted(np.random.choice(file_names, 2))"
   ]
  },
  {
   "cell_type": "code",
   "execution_count": null,
   "id": "c533e6dc-d283-4caa-a995-a3294e7bd82b",
   "metadata": {},
   "outputs": [],
   "source": [
    "file_name_1, file_name_2 = file_names[0], file_names[-1]"
   ]
  },
  {
   "cell_type": "code",
   "execution_count": null,
   "id": "86821e9f-f9a5-48f8-a705-de49a3e1fa2c",
   "metadata": {
    "scrolled": true
   },
   "outputs": [],
   "source": [
    "img_1, mask_1 = file_dict[file_name_1]\n",
    "img_2, mask_2 = file_dict[file_name_2]"
   ]
  },
  {
   "cell_type": "code",
   "execution_count": null,
   "id": "8cd6870a-f8ae-4b4c-8aa4-0e4433c0bd05",
   "metadata": {},
   "outputs": [],
   "source": [
    "img_to_viz_1 = np.hstack([img_1, np.repeat(mask_1[:, :, None], 3, axis=-1)])\n",
    "img_to_viz_2 = np.hstack([img_2, np.repeat(mask_2[:, :, None], 3, axis=-1)])\n",
    "\n",
    "img_to_viz = np.vstack([img_to_viz_1, img_to_viz_2])\n",
    "plt.imshow(img_to_viz)"
   ]
  },
  {
   "cell_type": "code",
   "execution_count": null,
   "id": "c3559fea-5958-4dfc-970e-819116ae5dbd",
   "metadata": {},
   "outputs": [],
   "source": [
    "udm_mask_1 = np.all(img_1 == 0, axis=-1)*255\n",
    "udm_mask_2 = np.all(img_2 == 0, axis=-1)*255\n",
    "\n",
    "udm_mask = np.logical_or(udm_mask_1, udm_mask_2)\n",
    "\n",
    "difference = np.logical_xor(mask_1 * np.logical_not(udm_mask), mask_2 * np.logical_not(udm_mask))"
   ]
  },
  {
   "cell_type": "code",
   "execution_count": null,
   "id": "01c6fd2c-4c95-4991-b47e-625e550ed705",
   "metadata": {},
   "outputs": [],
   "source": [
    "fig, axs = plt.subplots(figsize=(18, 18))\n",
    "img_to_viz = np.hstack([img_1, img_2, np.repeat(difference[:, :, None], 3, axis=-1)*255])\n",
    "\n",
    "plt.imshow(img_to_viz)"
   ]
  },
  {
   "cell_type": "markdown",
   "id": "3a34ef0b-2dac-4ea0-9c94-ef55a5e6651e",
   "metadata": {},
   "source": [
    "### visualzie crops"
   ]
  },
  {
   "cell_type": "code",
   "execution_count": null,
   "id": "c14356be-1740-4527-a780-e5c091f07e32",
   "metadata": {},
   "outputs": [],
   "source": [
    "patch_size = 256"
   ]
  },
  {
   "cell_type": "code",
   "execution_count": null,
   "id": "e2ab7e43-121f-4e69-869e-7f4a558ca67d",
   "metadata": {},
   "outputs": [],
   "source": [
    "x = np.random.randint(0, img_1.shape[0] - patch_size)\n",
    "y = np.random.randint(0, img_1.shape[1] - patch_size)\n",
    "x, y"
   ]
  },
  {
   "cell_type": "code",
   "execution_count": null,
   "id": "75596638-6885-4a2d-afa1-583ea392d3cb",
   "metadata": {},
   "outputs": [],
   "source": [
    "crop_1 = img_1[x: x + patch_size, y: y + patch_size]\n",
    "crop_2 = img_2[x: x + patch_size, y: y + patch_size]\n",
    "\n",
    "crop_difference = difference[x: x + patch_size, y: y + patch_size]"
   ]
  },
  {
   "cell_type": "code",
   "execution_count": null,
   "id": "882b88b9-7c8e-417c-ac39-a76938bd327d",
   "metadata": {},
   "outputs": [],
   "source": [
    "fig, axs = plt.subplots(1, 3, figsize=(14, 14))\n",
    "\n",
    "axs[0].imshow(crop_1)\n",
    "axs[1].imshow(crop_2)\n",
    "axs[2].imshow(crop_difference)"
   ]
  },
  {
   "cell_type": "markdown",
   "id": "01d0be41-8ca3-4b2d-ba08-64000eb63681",
   "metadata": {},
   "source": [
    "### Difference heatmap"
   ]
  },
  {
   "cell_type": "code",
   "execution_count": null,
   "id": "e5b1fe71-e56c-4959-89e9-3af02b59e690",
   "metadata": {},
   "outputs": [],
   "source": [
    "aux = np.zeros((difference.shape[0], difference.shape[1]))"
   ]
  },
  {
   "cell_type": "code",
   "execution_count": null,
   "id": "1600e1e4-db85-4ea9-99e8-cb20472835b5",
   "metadata": {},
   "outputs": [],
   "source": [
    "aux[:patch_size, :patch_size] = 1"
   ]
  },
  {
   "cell_type": "code",
   "execution_count": null,
   "id": "c99a3159-cd0d-4591-8cbb-eae1ecfca520",
   "metadata": {},
   "outputs": [],
   "source": [
    "output = signal.convolve2d(aux, np.ones((patch_size, patch_size)), mode='valid')"
   ]
  },
  {
   "cell_type": "code",
   "execution_count": null,
   "id": "ec474a60-d843-4edb-ab3a-0473588bd0bf",
   "metadata": {},
   "outputs": [],
   "source": [
    "output.shape"
   ]
  },
  {
   "cell_type": "code",
   "execution_count": null,
   "id": "6a4d971a-5f1f-44da-b6f8-e9b172f0637d",
   "metadata": {},
   "outputs": [],
   "source": [
    "output"
   ]
  },
  {
   "cell_type": "code",
   "execution_count": null,
   "id": "89d06ae0-9b8e-4be7-b724-63b975f033fc",
   "metadata": {},
   "outputs": [],
   "source": [
    "256*256"
   ]
  },
  {
   "cell_type": "code",
   "execution_count": null,
   "id": "91364282-1838-4deb-8c0f-9d12ce686120",
   "metadata": {},
   "outputs": [],
   "source": [
    "65024+256"
   ]
  },
  {
   "cell_type": "code",
   "execution_count": null,
   "id": "2aeeb711-c99d-4c7c-854a-458c3abdf4fd",
   "metadata": {},
   "outputs": [],
   "source": []
  }
 ],
 "metadata": {
  "kernelspec": {
   "display_name": "Python 3 (ipykernel)",
   "language": "python",
   "name": "python3"
  },
  "language_info": {
   "codemirror_mode": {
    "name": "ipython",
    "version": 3
   },
   "file_extension": ".py",
   "mimetype": "text/x-python",
   "name": "python",
   "nbconvert_exporter": "python",
   "pygments_lexer": "ipython3",
   "version": "3.12.2"
  }
 },
 "nbformat": 4,
 "nbformat_minor": 5
}
