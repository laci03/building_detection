{
 "cells": [
  {
   "cell_type": "code",
   "execution_count": null,
   "id": "18bacb7e-278a-4e9f-b02e-e043b78d5d2c",
   "metadata": {},
   "outputs": [],
   "source": [
    "import os\n",
    "\n",
    "import pandas as pd\n",
    "import numpy as np\n",
    "\n",
    "from shapely import wkt"
   ]
  },
  {
   "cell_type": "markdown",
   "id": "83606f7e-8953-431e-9bca-7745b5c3f9b2",
   "metadata": {},
   "source": [
    "### Parameters"
   ]
  },
  {
   "cell_type": "code",
   "execution_count": null,
   "id": "fbd825c2-9e9b-4531-8aa5-879b9861b96e",
   "metadata": {},
   "outputs": [],
   "source": [
    "percent_in_train = 0.8\n",
    "\n",
    "percent_in_valid = 0.1\n",
    "percent_in_test = 0.1\n",
    "\n",
    "df_path = '../../datasets/space_net_7/SN7_buildings_train_csvs/csvs/sn7_train_ground_truth_pix.csv'\n",
    "\n",
    "output_path = '../../building_detection_dataset/dataset_1'"
   ]
  },
  {
   "cell_type": "markdown",
   "id": "3a8a1d4f-6fde-43ac-b7b2-15462e1aa6cb",
   "metadata": {},
   "source": [
    "### verifications"
   ]
  },
  {
   "cell_type": "code",
   "execution_count": null,
   "id": "624603c0-33d1-442b-9d0b-23a53c8f89c3",
   "metadata": {},
   "outputs": [],
   "source": [
    "os.makedirs(output_path, exist_ok=True)"
   ]
  },
  {
   "cell_type": "code",
   "execution_count": null,
   "id": "b06f4cdd-11c7-4315-8e70-6e3481a2aed7",
   "metadata": {},
   "outputs": [],
   "source": [
    "assert (percent_in_train + percent_in_valid + percent_in_test) == 1 "
   ]
  },
  {
   "cell_type": "markdown",
   "id": "7f66b29d-8b47-469d-87b4-121890d22800",
   "metadata": {},
   "source": [
    "### Read df"
   ]
  },
  {
   "cell_type": "code",
   "execution_count": null,
   "id": "0b67ca77-781c-4cfd-8bfe-87185bb57e49",
   "metadata": {},
   "outputs": [],
   "source": [
    "df = pd.read_csv(df_path)\n",
    "df.head()"
   ]
  },
  {
   "cell_type": "code",
   "execution_count": null,
   "id": "ce5a866e-c6ac-47b9-b076-07773bfd2e39",
   "metadata": {},
   "outputs": [],
   "source": [
    "df['AOI_name'] = df['filename'].apply(lambda x: x.split('_mosaic_')[1])\n",
    "df.head()"
   ]
  },
  {
   "cell_type": "code",
   "execution_count": null,
   "id": "495bca65-4772-4303-af32-e631de8eea5e",
   "metadata": {},
   "outputs": [],
   "source": [
    "df['area'] = df['geometry'].apply(lambda x: wkt.loads(x).area)"
   ]
  },
  {
   "cell_type": "code",
   "execution_count": null,
   "id": "fb7c1694-316e-4b62-a54c-7c02ec327d2f",
   "metadata": {},
   "outputs": [],
   "source": [
    "df"
   ]
  },
  {
   "cell_type": "code",
   "execution_count": null,
   "id": "f5edaebd-90d7-4b43-8b85-24d47768438e",
   "metadata": {},
   "outputs": [],
   "source": [
    "df = df[df['area'] > 50]"
   ]
  },
  {
   "cell_type": "code",
   "execution_count": null,
   "id": "147a06ed-e8be-43db-9301-03f55bec6a5b",
   "metadata": {},
   "outputs": [],
   "source": [
    "df"
   ]
  },
  {
   "cell_type": "markdown",
   "id": "ee4e97e2-9032-42d0-9fef-be033d421cdf",
   "metadata": {},
   "source": [
    "### Split dataset"
   ]
  },
  {
   "cell_type": "code",
   "execution_count": null,
   "id": "961d2af5-911d-404d-b6f1-63289142a6f9",
   "metadata": {},
   "outputs": [],
   "source": [
    "train = []\n",
    "\n",
    "valid = []\n",
    "test = []\n",
    "for _, group in df.groupby('AOI_name'):\n",
    "    coin_toss = np.random.uniform()\n",
    "\n",
    "    if coin_toss <= percent_in_train:\n",
    "        train.append(group)\n",
    "    elif coin_toss <= (percent_in_train + percent_in_valid):\n",
    "        valid.append(group)\n",
    "    else:\n",
    "        test.append(group)"
   ]
  },
  {
   "cell_type": "code",
   "execution_count": null,
   "id": "a53ad7d8-5db8-41fc-8e4f-3712233da867",
   "metadata": {},
   "outputs": [],
   "source": [
    "len(train), len(valid), len(test)"
   ]
  },
  {
   "cell_type": "code",
   "execution_count": null,
   "id": "3782e74c-0116-4b13-ab15-7c2aca42d55f",
   "metadata": {},
   "outputs": [],
   "source": [
    "train_df = pd.concat(train)\n",
    "valid_df = pd.concat(valid)\n",
    "test_df = pd.concat(test)"
   ]
  },
  {
   "cell_type": "markdown",
   "id": "a250b025-7d6c-46cd-b492-f04a737b960c",
   "metadata": {},
   "source": [
    "### Save datasets"
   ]
  },
  {
   "cell_type": "code",
   "execution_count": null,
   "id": "18ae6c02-6c48-4129-a63f-b0f8a905204b",
   "metadata": {},
   "outputs": [],
   "source": [
    "df.to_csv(os.path.join(output_path, 'all_df.csv'))\n",
    "\n",
    "train_df.to_csv(os.path.join(output_path, 'train.csv'))\n",
    "valid_df.to_csv(os.path.join(output_path, 'valid.csv'))\n",
    "test_df.to_csv(os.path.join(output_path, 'test.csv'))"
   ]
  },
  {
   "cell_type": "markdown",
   "id": "3dd05bfd-0e6c-46e0-8fac-28ce9eabcbc3",
   "metadata": {},
   "source": [
    "### Train"
   ]
  },
  {
   "cell_type": "code",
   "execution_count": null,
   "id": "82e25ea6-84bd-4b3b-b99e-5b9cc970d6b6",
   "metadata": {},
   "outputs": [],
   "source": [
    "print('Total number of \\033[1mAreas of interest\\033[0m in the dataset \\033[1m{}\\033[0m'.format(len(train_df.drop_duplicates(['AOI_name']))))\n",
    "print('Total number of \\033[1mImages\\033[0m in the dataset \\033[1m{}\\033[0m'.format(len(train_df.drop_duplicates(['filename']))))\n",
    "\n",
    "print('Total number of \\033[1munique houses\\033[0m in the dataset \\033[1m{:,.0f}\\033[0m'.format(len(train_df.drop_duplicates(['AOI_name', 'id']))))\n",
    "print('Total number of \\033[1mpolygons\\033[0m in the dataset \\033[1m{:,.0f}\\033[0m'.format(len(train_df)))"
   ]
  },
  {
   "cell_type": "markdown",
   "id": "1043e6b5-4ba9-45b0-aa31-9e09f84592f3",
   "metadata": {},
   "source": [
    "### Valid"
   ]
  },
  {
   "cell_type": "code",
   "execution_count": null,
   "id": "b30d0115-b42a-485c-980b-2ca8fac9d498",
   "metadata": {},
   "outputs": [],
   "source": [
    "print('Total number of \\033[1mAreas of interest\\033[0m in the dataset \\033[1m{}\\033[0m'.format(len(valid_df.drop_duplicates(['AOI_name']))))\n",
    "print('Total number of \\033[1mImages\\033[0m in the dataset \\033[1m{}\\033[0m'.format(len(valid_df.drop_duplicates(['filename']))))\n",
    "\n",
    "print('Total number of \\033[1munique houses\\033[0m in the dataset \\033[1m{:,.0f}\\033[0m'.format(len(valid_df.drop_duplicates(['AOI_name', 'id']))))\n",
    "print('Total number of \\033[1mpolygons\\033[0m in the dataset \\033[1m{:,.0f}\\033[0m'.format(len(valid_df)))"
   ]
  },
  {
   "cell_type": "markdown",
   "id": "8c601326-5757-406e-9d66-5cfcb83c8548",
   "metadata": {},
   "source": [
    "### Test"
   ]
  },
  {
   "cell_type": "code",
   "execution_count": null,
   "id": "c500c981-7980-485d-b7c3-6fe529726c05",
   "metadata": {},
   "outputs": [],
   "source": [
    "print('Total number of \\033[1mAreas of interest\\033[0m in the dataset \\033[1m{}\\033[0m'.format(len(test_df.drop_duplicates(['AOI_name']))))\n",
    "print('Total number of \\033[1mImages\\033[0m in the dataset \\033[1m{}\\033[0m'.format(len(test_df.drop_duplicates(['filename']))))\n",
    "\n",
    "print('Total number of \\033[1munique houses\\033[0m in the dataset \\033[1m{:,.0f}\\033[0m'.format(len(test_df.drop_duplicates(['AOI_name', 'id']))))\n",
    "print('Total number of \\033[1mpolygons\\033[0m in the dataset \\033[1m{:,.0f}\\033[0m'.format(len(test_df)))"
   ]
  },
  {
   "cell_type": "code",
   "execution_count": null,
   "id": "36acfacd-a79a-4c23-bbd8-727deb4eb2e3",
   "metadata": {},
   "outputs": [],
   "source": []
  }
 ],
 "metadata": {
  "kernelspec": {
   "display_name": "Python 3 (ipykernel)",
   "language": "python",
   "name": "python3"
  },
  "language_info": {
   "codemirror_mode": {
    "name": "ipython",
    "version": 3
   },
   "file_extension": ".py",
   "mimetype": "text/x-python",
   "name": "python",
   "nbconvert_exporter": "python",
   "pygments_lexer": "ipython3",
   "version": "3.12.2"
  }
 },
 "nbformat": 4,
 "nbformat_minor": 5
}
