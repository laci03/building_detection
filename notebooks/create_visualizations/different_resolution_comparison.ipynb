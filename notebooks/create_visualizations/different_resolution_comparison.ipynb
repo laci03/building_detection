{
 "cells": [
  {
   "cell_type": "code",
   "execution_count": null,
   "id": "81215ae2-cc71-43e1-8e4e-3aaa4d126093",
   "metadata": {},
   "outputs": [],
   "source": [
    "import cv2\n",
    "\n",
    "import numpy as np"
   ]
  },
  {
   "cell_type": "code",
   "execution_count": null,
   "id": "3df9bac4-bd27-439e-921d-ac2d5b7d5920",
   "metadata": {},
   "outputs": [],
   "source": [
    "paths_to_combine = [\n",
    "    '../../../building_detection_material/different_resolution_comparison/nagyenyed_landsat.tif',\n",
    "    '../../../building_detection_material/different_resolution_comparison/nagyenyed_sentinel.tif',\n",
    "    '../../../building_detection_material/different_resolution_comparison/nagyenyed_planet.tif'\n",
    "]"
   ]
  },
  {
   "cell_type": "code",
   "execution_count": null,
   "id": "755b85c3-c442-421b-9bd5-936ce58e5a14",
   "metadata": {},
   "outputs": [],
   "source": [
    "imgs = []\n",
    "\n",
    "for path in paths_to_combine:\n",
    "    img = cv2.imread(path)\n",
    "\n",
    "    img = cv2.resize(img, (166, 172))\n",
    "\n",
    "    imgs.append(img)"
   ]
  },
  {
   "cell_type": "code",
   "execution_count": null,
   "id": "1afb2588-861d-437f-bfe0-9d36293b6d30",
   "metadata": {},
   "outputs": [],
   "source": [
    "imgs[2].shape"
   ]
  },
  {
   "cell_type": "code",
   "execution_count": null,
   "id": "e7ce3b4c-5bb1-4ca0-92f4-962acdc34f53",
   "metadata": {},
   "outputs": [],
   "source": [
    "output = np.concatenate(imgs, axis=1)\n",
    "cv2.imshow('tmp', output)\n",
    "cv2.waitKey(0)\n",
    "\n",
    "cv2.destroyAllWindows()"
   ]
  },
  {
   "cell_type": "code",
   "execution_count": null,
   "id": "bcad3adf-c669-4fcf-8539-912924e9fa33",
   "metadata": {},
   "outputs": [],
   "source": [
    "cv2.imwrite('../../../building_detection_material/different_resolution_comparison/different_resolutions.png', output)"
   ]
  },
  {
   "cell_type": "code",
   "execution_count": null,
   "id": "4ecd2648-7c69-4403-a1a1-60cf1892cb88",
   "metadata": {},
   "outputs": [],
   "source": []
  }
 ],
 "metadata": {
  "kernelspec": {
   "display_name": "Python 3 (ipykernel)",
   "language": "python",
   "name": "python3"
  },
  "language_info": {
   "codemirror_mode": {
    "name": "ipython",
    "version": 3
   },
   "file_extension": ".py",
   "mimetype": "text/x-python",
   "name": "python",
   "nbconvert_exporter": "python",
   "pygments_lexer": "ipython3",
   "version": "3.12.2"
  }
 },
 "nbformat": 4,
 "nbformat_minor": 5
}
