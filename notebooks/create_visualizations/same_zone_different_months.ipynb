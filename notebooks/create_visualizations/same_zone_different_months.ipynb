{
 "cells": [
  {
   "cell_type": "code",
   "execution_count": null,
   "id": "b9b01405-6a61-4d2c-be75-ec985a604e08",
   "metadata": {},
   "outputs": [],
   "source": [
    "import calendar\n",
    "\n",
    "import rasterio as rio\n",
    "import matplotlib.pyplot as plt\n",
    "\n",
    "from pathlib import Path"
   ]
  },
  {
   "cell_type": "code",
   "execution_count": null,
   "id": "88218b36-d4f6-4cb2-9e6c-1903f13a977f",
   "metadata": {},
   "outputs": [],
   "source": [
    "zone = Path('../../../datasets/space_net_7/SN7_buildings_train/train/L15-1172E-1306N_4688_2967_13/images')"
   ]
  },
  {
   "cell_type": "code",
   "execution_count": null,
   "id": "ef4fcb3e-a63d-46c4-b2a2-63ef0d1b0442",
   "metadata": {},
   "outputs": [],
   "source": [
    "files = sorted(list(zone.glob('*.tif')))\n",
    "len(files)"
   ]
  },
  {
   "cell_type": "code",
   "execution_count": null,
   "id": "f3b2d438-020d-4588-80e2-e08ae47fc5d8",
   "metadata": {},
   "outputs": [],
   "source": [
    "files"
   ]
  },
  {
   "cell_type": "code",
   "execution_count": null,
   "id": "c5256710-5cdd-40f9-850c-0d5beb44b9ac",
   "metadata": {},
   "outputs": [],
   "source": [
    "files = files[:12]"
   ]
  },
  {
   "cell_type": "code",
   "execution_count": null,
   "id": "ddee9d88-01eb-47e3-831b-3468eb4c4ee1",
   "metadata": {},
   "outputs": [],
   "source": [
    "fig, axs = plt.subplots(4, 3, figsize=(18, 24), gridspec_kw = {'wspace':0.15, 'hspace':0.15})\n",
    "\n",
    "for i, file in enumerate(files):\n",
    "    r = rio.open(file).read()\n",
    "\n",
    "    r = r.transpose((1,2,0,))\n",
    "\n",
    "    axs[i//3][i%3].imshow(r)\n",
    "    axs[i//3][i%3].get_xaxis().set_visible(False)\n",
    "    axs[i//3][i%3].get_yaxis().set_visible(False)\n",
    "\n",
    "    axs[i//3][i%3].set_title(' '.join([calendar.month_name[i+1], '2018']))\n",
    "    \n",
    "    axs[i//3][i%3].set_axis_off()\n",
    "\n",
    "\n",
    "plt.savefig('../../../building_detection_material/same_zone_different_month.png', bbox_inches='tight')"
   ]
  },
  {
   "cell_type": "code",
   "execution_count": null,
   "id": "1d7cc240-72b4-4fd3-a779-67522c836f1f",
   "metadata": {},
   "outputs": [],
   "source": []
  },
  {
   "cell_type": "code",
   "execution_count": null,
   "id": "7cdcfc17-743d-45d3-8d88-f14aac1e18be",
   "metadata": {},
   "outputs": [],
   "source": []
  }
 ],
 "metadata": {
  "kernelspec": {
   "display_name": "Python 3 (ipykernel)",
   "language": "python",
   "name": "python3"
  },
  "language_info": {
   "codemirror_mode": {
    "name": "ipython",
    "version": 3
   },
   "file_extension": ".py",
   "mimetype": "text/x-python",
   "name": "python",
   "nbconvert_exporter": "python",
   "pygments_lexer": "ipython3",
   "version": "3.12.2"
  }
 },
 "nbformat": 4,
 "nbformat_minor": 5
}
