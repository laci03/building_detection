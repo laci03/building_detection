{
 "cells": [
  {
   "cell_type": "code",
   "execution_count": null,
   "id": "06587355-74a5-44d2-9a03-6e71e8189d2c",
   "metadata": {},
   "outputs": [],
   "source": [
    "import os\n",
    "import cv2\n",
    "\n",
    "import pandas as pd\n",
    "import rasterio as rio\n",
    "import matplotlib.pyplot as plt\n",
    "import numpy as np\n",
    "\n",
    "from pathlib import Path"
   ]
  },
  {
   "cell_type": "code",
   "execution_count": null,
   "id": "308f6527-dfd5-4eb6-8b71-41a1150204db",
   "metadata": {},
   "outputs": [],
   "source": [
    "imgs_paths = ['../../../change_detection_dataset/SN7_buildings/train/L15-1204E-1202N_4816_3380_13/images/global_monthly_2017_07_mosaic_L15-1204E-1202N_4816_3380_13.tif',\n",
    "              '../../../change_detection_dataset/SN7_buildings/train/L15-1204E-1202N_4816_3380_13/images/global_monthly_2019_09_mosaic_L15-1204E-1202N_4816_3380_13.tif'\n",
    "]\n",
    "\n",
    "masks_paths = ['../../../change_detection_dataset/SN7_masks/L15-1204E-1202N_4816_3380_13/global_monthly_2017_07_mosaic_L15-1204E-1202N_4816_3380_13.png',\n",
    "               '../../../change_detection_dataset/SN7_masks/L15-1204E-1202N_4816_3380_13/global_monthly_2019_09_mosaic_L15-1204E-1202N_4816_3380_13.png'\n",
    "]\n",
    "\n",
    "output_image = '../../../building_detection_material/evolution_of_a_zone.png'"
   ]
  },
  {
   "cell_type": "code",
   "execution_count": null,
   "id": "ae6eefe3-759d-4574-b3f7-3f6ff0caa927",
   "metadata": {},
   "outputs": [],
   "source": [
    "fig, ax = plt.subplots(2, 2, figsize=(22, 22), gridspec_kw = {'wspace':0, 'hspace':0})\n",
    "\n",
    "for i, paths in enumerate(zip(imgs_paths, masks_paths)):\n",
    "    r = rio.open(paths[0]).read()\n",
    "    \n",
    "    img = r.transpose((1, 2, 0))[:, :, :-1]\n",
    "\n",
    "    mask = np.array(cv2.imread(paths[1], 0)[:, :, None], np.float32)\n",
    "\n",
    "    ax[0][i].get_xaxis().set_visible(False)\n",
    "    ax[0][i].get_yaxis().set_visible(False)\n",
    "\n",
    "    ax[0][i].imshow(img)\n",
    "    ax[0][i].set_axis_off()\n",
    "    \n",
    "    ax[1][i].get_xaxis().set_visible(False)\n",
    "    ax[1][i].get_yaxis().set_visible(False)\n",
    "    \n",
    "    ax[1][i].imshow(mask)\n",
    "    ax[1][i].set_axis_off()\n",
    "\n",
    "plt.savefig(output_image, bbox_inches='tight')"
   ]
  },
  {
   "cell_type": "code",
   "execution_count": null,
   "id": "82593e3d-db93-4011-b0c2-863d97bec9e8",
   "metadata": {},
   "outputs": [],
   "source": []
  }
 ],
 "metadata": {
  "kernelspec": {
   "display_name": "Python 3 (ipykernel)",
   "language": "python",
   "name": "python3"
  },
  "language_info": {
   "codemirror_mode": {
    "name": "ipython",
    "version": 3
   },
   "file_extension": ".py",
   "mimetype": "text/x-python",
   "name": "python",
   "nbconvert_exporter": "python",
   "pygments_lexer": "ipython3",
   "version": "3.12.2"
  }
 },
 "nbformat": 4,
 "nbformat_minor": 5
}
