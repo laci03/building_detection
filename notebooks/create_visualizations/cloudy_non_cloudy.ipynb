{
 "cells": [
  {
   "cell_type": "code",
   "execution_count": null,
   "id": "7d70a99f-931e-4047-ada9-c9e36375a874",
   "metadata": {},
   "outputs": [],
   "source": [
    "import os\n",
    "import cv2\n",
    "\n",
    "import pandas as pd\n",
    "import rasterio as rio\n",
    "import matplotlib.pyplot as plt\n",
    "import numpy as np\n",
    "\n",
    "from pathlib import Path"
   ]
  },
  {
   "cell_type": "code",
   "execution_count": null,
   "id": "9e82fe56-6fb3-4724-946a-b4dc9a7de526",
   "metadata": {},
   "outputs": [],
   "source": [
    "imgs_paths = ['../../../change_detection_dataset/SN7_buildings/train/L15-0571E-1075N_2287_3888_13/images/global_monthly_2018_03_mosaic_L15-0571E-1075N_2287_3888_13.tif',\n",
    "              '../../../change_detection_dataset/SN7_buildings/train/L15-0571E-1075N_2287_3888_13/images/global_monthly_2018_07_mosaic_L15-0571E-1075N_2287_3888_13.tif',\n",
    "              '../../../change_detection_dataset/SN7_buildings/train/L15-0571E-1075N_2287_3888_13/images_masked/global_monthly_2018_07_mosaic_L15-0571E-1075N_2287_3888_13.tif'\n",
    "]\n",
    "\n",
    "output_image = '../../../building_detection_material/cloudy_non_cloudy.png'"
   ]
  },
  {
   "cell_type": "code",
   "execution_count": null,
   "id": "0da7eb30-259a-4690-89ae-c8115fa0e025",
   "metadata": {},
   "outputs": [],
   "source": [
    "fig, ax = plt.subplots(1, 3, figsize=(24, 8), gridspec_kw = {'wspace':0.1, 'hspace':0})\n",
    "\n",
    "for i, img_path in enumerate(imgs_paths):\n",
    "    r = rio.open(img_path).read()\n",
    "    \n",
    "    img = r.transpose((1, 2, 0))[:, :, :-1]\n",
    "\n",
    "\n",
    "    ax[i].get_xaxis().set_visible(False)\n",
    "    ax[i].get_yaxis().set_visible(False)\n",
    "\n",
    "    ax[i].imshow(img)\n",
    "    \n",
    "    ax[i].set_axis_off()\n",
    "\n",
    "\n",
    "plt.savefig(output_image, bbox_inches='tight')"
   ]
  },
  {
   "cell_type": "code",
   "execution_count": null,
   "id": "d7699573-331e-4a10-b904-7eea1fd69cb8",
   "metadata": {},
   "outputs": [],
   "source": []
  }
 ],
 "metadata": {
  "kernelspec": {
   "display_name": "Python 3 (ipykernel)",
   "language": "python",
   "name": "python3"
  },
  "language_info": {
   "codemirror_mode": {
    "name": "ipython",
    "version": 3
   },
   "file_extension": ".py",
   "mimetype": "text/x-python",
   "name": "python",
   "nbconvert_exporter": "python",
   "pygments_lexer": "ipython3",
   "version": "3.12.2"
  }
 },
 "nbformat": 4,
 "nbformat_minor": 5
}
