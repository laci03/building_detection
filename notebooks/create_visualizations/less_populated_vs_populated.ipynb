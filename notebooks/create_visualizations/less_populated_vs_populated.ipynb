{
 "cells": [
  {
   "cell_type": "code",
   "execution_count": null,
   "id": "e06de3ac-97d4-4c75-b7b6-e58d1fa4a292",
   "metadata": {},
   "outputs": [],
   "source": [
    "import os\n",
    "import cv2\n",
    "\n",
    "import pandas as pd\n",
    "import rasterio as rio\n",
    "import matplotlib.pyplot as plt\n",
    "import numpy as np\n",
    "\n",
    "from pathlib import Path"
   ]
  },
  {
   "cell_type": "code",
   "execution_count": null,
   "id": "b02d6f0c-65b6-4b22-b0e7-879d6043d510",
   "metadata": {},
   "outputs": [],
   "source": [
    "imgs_paths = ['../../../change_detection_dataset/SN7_buildings/train/L15-1748E-1247N_6993_3202_13/images/global_monthly_2019_09_mosaic_L15-1748E-1247N_6993_3202_13.tif',\n",
    "              '../../../change_detection_dataset/SN7_buildings/train/L15-1438E-1134N_5753_3655_13/images/global_monthly_2018_10_mosaic_L15-1438E-1134N_5753_3655_13.tif'\n",
    "]\n",
    "\n",
    "output_image = '../../../building_detection_material/less_populated_vs_populated.png'"
   ]
  },
  {
   "cell_type": "code",
   "execution_count": null,
   "id": "cf24a4a5-b9d5-4bf1-91bc-9dfb51cd1ef9",
   "metadata": {},
   "outputs": [],
   "source": [
    "fig, ax = plt.subplots(1, 2, figsize=(24, 12), gridspec_kw = {'wspace':0.1, 'hspace':0})\n",
    "\n",
    "for i, img_path in enumerate(imgs_paths):\n",
    "    r = rio.open(img_path).read()\n",
    "    \n",
    "    img = r.transpose((1, 2, 0))[:, :, :-1]\n",
    "\n",
    "\n",
    "    ax[i].get_xaxis().set_visible(False)\n",
    "    ax[i].get_yaxis().set_visible(False)\n",
    "    ax[i].set_axis_off()\n",
    "\n",
    "\n",
    "    ax[i].imshow(img)\n",
    "\n",
    "plt.savefig(output_image, bbox_inches='tight')"
   ]
  },
  {
   "cell_type": "code",
   "execution_count": null,
   "id": "12955a06-9ae9-4777-a37e-12426be743e0",
   "metadata": {},
   "outputs": [],
   "source": []
  }
 ],
 "metadata": {
  "kernelspec": {
   "display_name": "Python 3 (ipykernel)",
   "language": "python",
   "name": "python3"
  },
  "language_info": {
   "codemirror_mode": {
    "name": "ipython",
    "version": 3
   },
   "file_extension": ".py",
   "mimetype": "text/x-python",
   "name": "python",
   "nbconvert_exporter": "python",
   "pygments_lexer": "ipython3",
   "version": "3.12.2"
  }
 },
 "nbformat": 4,
 "nbformat_minor": 5
}
