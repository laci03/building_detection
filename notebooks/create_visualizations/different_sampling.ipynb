{
 "cells": [
  {
   "cell_type": "code",
   "execution_count": null,
   "id": "cb748b1f-b7d7-40b2-8641-42678ba0b42e",
   "metadata": {},
   "outputs": [],
   "source": [
    "import sys\n",
    "import cv2\n",
    "\n",
    "import rasterio as rio\n",
    "import matplotlib.pyplot as plt\n",
    "\n",
    "from pathlib import Path\n",
    "\n",
    "import numpy as np"
   ]
  },
  {
   "cell_type": "code",
   "execution_count": null,
   "id": "807cc4bd-b445-459e-8de1-038567c83b9e",
   "metadata": {},
   "outputs": [],
   "source": [
    "sys.path.append('../..')"
   ]
  },
  {
   "cell_type": "code",
   "execution_count": null,
   "id": "044286ec-5641-41cb-ac43-b8b688da4de9",
   "metadata": {},
   "outputs": [],
   "source": [
    "from dataset import BuildingDetectionDataset"
   ]
  },
  {
   "cell_type": "code",
   "execution_count": null,
   "id": "a672623b-bc55-485e-b0bd-f355adc981c3",
   "metadata": {},
   "outputs": [],
   "source": [
    "output_path = '../../../building_detection_material/sampling_method_entire_image.png'"
   ]
  },
  {
   "cell_type": "code",
   "execution_count": null,
   "id": "dcf5d887-449f-45b8-a698-e0934b796776",
   "metadata": {},
   "outputs": [],
   "source": [
    "dataset = BuildingDetectionDataset(dataset_path='../../../change_detection_dataset/SN7_buildings/train',\n",
    "                                   masks_path='../../../building_detection_dataset/SN7_masks',\n",
    "                                   df_path='../../../building_detection_dataset/dataset_2/train.csv',\n",
    "                                   no_of_crops_per_combination=25,\n",
    "                                   training_mode=False,\n",
    "                                   crop_size=256,\n",
    "                                   shuffle=False,\n",
    "                                   transform=None,\n",
    "                                   rgb_mean=None,\n",
    "                                   rgb_std=None,\n",
    "                                   image_resize=1)"
   ]
  },
  {
   "cell_type": "code",
   "execution_count": null,
   "id": "224f623a-114f-411b-ba37-1a9cca0809d1",
   "metadata": {},
   "outputs": [],
   "source": [
    "dataset.file_list = [x for x in dataset.file_list if x[1] == 'global_monthly_2017_07_mosaic_L15-1690E-1211N_6763_3346_13']\n",
    "dataset.file_list"
   ]
  },
  {
   "cell_type": "code",
   "execution_count": null,
   "id": "2ac698af-90af-4abd-91c4-8b8e77f3f080",
   "metadata": {},
   "outputs": [],
   "source": [
    "dataset.training_mode = True"
   ]
  },
  {
   "cell_type": "code",
   "execution_count": null,
   "id": "6291eba6-8ccb-48d4-95ab-378ed57df095",
   "metadata": {},
   "outputs": [],
   "source": [
    "dataset_len_sqrt = int(len(dataset)**0.5)\n",
    "fig, ax = plt.subplots(dataset_len_sqrt*2, dataset_len_sqrt, figsize=(13, 26), gridspec_kw = {'wspace':0.05, 'hspace':0})\n",
    "    \n",
    "for idx in range(len(dataset)):\n",
    "    image, mask = dataset[idx]\n",
    "    \n",
    "    image = image.numpy().transpose((1, 2, 0))\n",
    "    mask = mask.numpy().transpose((1, 2, 0))\n",
    "\n",
    "    image = np.array(image, dtype=np.uint8)\n",
    "\n",
    "    if dataset_len_sqrt == 1:\n",
    "        ax[idx].imshow(image)\n",
    "        ax[idx].get_xaxis().set_visible(False)\n",
    "        ax[idx].get_yaxis().set_visible(False)\n",
    "        \n",
    "        ax[idx].set_axis_off()\n",
    "        \n",
    "        ax[idx + dataset_len_sqrt].imshow(mask)\n",
    "        ax[idx + dataset_len_sqrt].get_xaxis().set_visible(False)\n",
    "        ax[idx + dataset_len_sqrt].get_yaxis().set_visible(False)\n",
    "        \n",
    "        ax[idx].set_axis_off()\n",
    "    else:\n",
    "        ax[idx // dataset_len_sqrt][idx % dataset_len_sqrt].imshow(image)\n",
    "        ax[idx // dataset_len_sqrt][idx % dataset_len_sqrt].get_xaxis().set_visible(False)\n",
    "        ax[idx // dataset_len_sqrt][idx % dataset_len_sqrt].get_yaxis().set_visible(False)\n",
    "        \n",
    "        ax[idx // dataset_len_sqrt][idx % dataset_len_sqrt].set_axis_off()\n",
    "        \n",
    "        ax[idx // dataset_len_sqrt + dataset_len_sqrt][idx % dataset_len_sqrt].imshow(mask)\n",
    "        ax[idx // dataset_len_sqrt + dataset_len_sqrt][idx % dataset_len_sqrt].get_xaxis().set_visible(False)\n",
    "        ax[idx // dataset_len_sqrt + dataset_len_sqrt][idx % dataset_len_sqrt].get_yaxis().set_visible(False)\n",
    "        \n",
    "        ax[idx // dataset_len_sqrt + dataset_len_sqrt][idx % dataset_len_sqrt].set_axis_off()\n",
    "\n",
    "plt.savefig(output_path, bbox_inches='tight')"
   ]
  },
  {
   "cell_type": "code",
   "execution_count": null,
   "id": "ec425f91-a85b-4c37-85d3-6680e69c6302",
   "metadata": {},
   "outputs": [],
   "source": []
  },
  {
   "cell_type": "code",
   "execution_count": null,
   "id": "be5508a7-ad1d-4131-9600-51658fba443e",
   "metadata": {},
   "outputs": [],
   "source": [
    "imgs_paths = [\n",
    "    '../../../building_detection_material/sampling_method_entire_image.png',\n",
    "    '../../../building_detection_material/sampling_method_sliding_window.png',\n",
    "    '../../../building_detection_material/sampling_method_random_sampling.png'\n",
    "]\n",
    "\n",
    "imgs = [cv2.imread(img_path)[:, :, ::-1] for img_path in imgs_paths]"
   ]
  },
  {
   "cell_type": "code",
   "execution_count": null,
   "id": "f1d1835b-424b-4eae-884d-3d5e4f3df246",
   "metadata": {},
   "outputs": [],
   "source": [
    "fig, ax = plt.subplots(1, 3, figsize=(18, 12), gridspec_kw = {'wspace':0.025, 'hspace':0.05})\n",
    "\n",
    "for i, title in enumerate(['Entire image', 'Sliding window', 'Random sampling']):\n",
    "    ax[i].imshow(imgs[i])\n",
    "    \n",
    "    ax[i].get_xaxis().set_visible(False)\n",
    "    ax[i].get_yaxis().set_visible(False)\n",
    "    ax[i].set_axis_off()\n",
    "    ax[i].set_title(title)\n",
    "    \n",
    "    ax[i].title.set_size(20)\n",
    "\n",
    "plt.savefig('../../../building_detection_material/sampling_method.png', bbox_inches='tight')"
   ]
  },
  {
   "cell_type": "code",
   "execution_count": null,
   "id": "b1682a30-3cb8-4ba6-abdd-7474eee9433f",
   "metadata": {},
   "outputs": [],
   "source": []
  }
 ],
 "metadata": {
  "kernelspec": {
   "display_name": "Python 3 (ipykernel)",
   "language": "python",
   "name": "python3"
  },
  "language_info": {
   "codemirror_mode": {
    "name": "ipython",
    "version": 3
   },
   "file_extension": ".py",
   "mimetype": "text/x-python",
   "name": "python",
   "nbconvert_exporter": "python",
   "pygments_lexer": "ipython3",
   "version": "3.12.2"
  }
 },
 "nbformat": 4,
 "nbformat_minor": 5
}
