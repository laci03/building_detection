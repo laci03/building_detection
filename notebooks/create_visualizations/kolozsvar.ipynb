{
 "cells": [
  {
   "cell_type": "code",
   "execution_count": null,
   "id": "8aad54a9-8fb0-497a-b0e2-440fcfa0896a",
   "metadata": {},
   "outputs": [],
   "source": [
    "import rasterio as rio\n",
    "\n",
    "import matplotlib.pyplot as plt\n",
    "from rasterio.windows import Window"
   ]
  },
  {
   "cell_type": "code",
   "execution_count": null,
   "id": "9d5c9948-a074-46a3-ab30-99626fb9a14a",
   "metadata": {},
   "outputs": [],
   "source": [
    "input_path = '../../../kolozsvar/2023/2023-08-27_strip_6737188_composite.tif'\n",
    "# input_path = '../../../planetscope/enyed/2023/2023-08-27_strip_6736810_composite.tif'\n",
    "\n",
    "output = '../../../change_detection_dataset/kolozsvar_enyed/kolozsvar'"
   ]
  },
  {
   "cell_type": "code",
   "execution_count": null,
   "id": "76ac13dc-121b-4f68-b4c5-e4739b2ff1c3",
   "metadata": {},
   "outputs": [],
   "source": [
    "with rio.open(input_path) as src:\n",
    "    # The size in pixels of your desired window\n",
    "    xsize, ysize = 1024, 1024\n",
    "\n",
    "    # Generate a random window origin (upper left) that ensures the window \n",
    "    # doesn't go outside the image. i.e. origin can only be between \n",
    "    # 0 and image width or height less the window width or height\n",
    "    xmin, xmax = 0, src.width - xsize\n",
    "    ymin, ymax = 0, src.height - ysize\n",
    "    for xoff in range(xmin, xmax, xsize):\n",
    "        for yoff in range(ymin, ymax, ysize):\n",
    "\n",
    "            # Create a Window and calculate the transform from the source dataset    \n",
    "            window = Window(xoff, yoff, xsize, ysize)\n",
    "            transform = src.window_transform(window)\n",
    "        \n",
    "            # Create a new cropped raster to write to\n",
    "            profile = src.profile\n",
    "            profile.update({\n",
    "                'height': ysize,\n",
    "                'width': xsize,\n",
    "                'transform': transform})\n",
    "        \n",
    "            with rio.open('{}/kolozsvar_{}_{}.tif'.format(output, xoff, yoff), 'w', **profile) as dst:\n",
    "                # Read the data from the window and write it to the output raster\n",
    "                dst.write(src.read(window=window))"
   ]
  },
  {
   "cell_type": "code",
   "execution_count": null,
   "id": "6c3ed735-8c86-4302-a467-36e2a879b8f4",
   "metadata": {},
   "outputs": [],
   "source": []
  }
 ],
 "metadata": {
  "kernelspec": {
   "display_name": "Python 3 (ipykernel)",
   "language": "python",
   "name": "python3"
  },
  "language_info": {
   "codemirror_mode": {
    "name": "ipython",
    "version": 3
   },
   "file_extension": ".py",
   "mimetype": "text/x-python",
   "name": "python",
   "nbconvert_exporter": "python",
   "pygments_lexer": "ipython3",
   "version": "3.12.2"
  }
 },
 "nbformat": 4,
 "nbformat_minor": 5
}
