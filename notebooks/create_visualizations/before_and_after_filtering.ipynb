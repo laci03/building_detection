{
 "cells": [
  {
   "cell_type": "code",
   "execution_count": null,
   "id": "225166c0-3f81-4bf9-91df-d7e016085604",
   "metadata": {},
   "outputs": [],
   "source": [
    "import os\n",
    "import cv2\n",
    "\n",
    "import pandas as pd\n",
    "import rasterio as rio\n",
    "import matplotlib.pyplot as plt\n",
    "import numpy as np\n",
    "\n",
    "from pathlib import Path\n",
    "from shapely import wkt\n",
    "from rasterio import features"
   ]
  },
  {
   "cell_type": "code",
   "execution_count": null,
   "id": "56d74c4b-0267-400f-9d73-12d73610a339",
   "metadata": {},
   "outputs": [],
   "source": [
    "aoi_name = 'L15-0457E-1135N_1831_3648_13'\n",
    "file_name = 'global_monthly_2019_12_mosaic_L15-0457E-1135N_1831_3648_13'\n",
    "\n",
    "df_path = '../../../change_detection_dataset/dataset_1/all_df.csv'\n",
    "\n",
    "aoi_path = Path('../../../datasets/space_net_7/SN7_buildings_train/train/{}/images_masked/'.format(aoi_name))\n",
    "output_image = '../../../building_detection_material/before_and_after_filtering.png'"
   ]
  },
  {
   "cell_type": "markdown",
   "id": "39252c54-7030-4dc5-bb42-cd790fd38d60",
   "metadata": {},
   "source": [
    "### Read CSV"
   ]
  },
  {
   "cell_type": "code",
   "execution_count": null,
   "id": "04ecfaf3-e730-41fa-b4d4-38b4916da30d",
   "metadata": {},
   "outputs": [],
   "source": [
    "df = pd.read_csv(df_path, index_col=0)\n",
    "\n",
    "df = df[(df['AOI_name'] == aoi_name) & (df['filename'] == file_name)]\n",
    "df"
   ]
  },
  {
   "cell_type": "code",
   "execution_count": null,
   "id": "08dbb832-80b9-4575-9158-db80910f7d15",
   "metadata": {},
   "outputs": [],
   "source": [
    "df['area'] = df['geometry'].apply(lambda x: wkt.loads(x).area)"
   ]
  },
  {
   "cell_type": "code",
   "execution_count": null,
   "id": "f86207dc-4b11-4d6d-9abc-88eef603a936",
   "metadata": {},
   "outputs": [],
   "source": [
    "df['area'].describe()"
   ]
  },
  {
   "cell_type": "code",
   "execution_count": null,
   "id": "45fc9a8c-524b-4ff9-9b6d-2c4615d9db5b",
   "metadata": {},
   "outputs": [],
   "source": [
    "r = rio.open(aoi_path / '.'.join([file_name, 'tif'])).read()\n",
    "\n",
    "image = r.transpose((1, 2, 0))[:, :, :-1]\n",
    "\n",
    "polygons_small = list(df[df['area']<=50]['geometry'])\n",
    "polygons_large = list(df[df['area']>50]['geometry'])\n",
    "\n",
    "mask_large_buildings = features.rasterize(((wkt.loads(polygon), (1)) for polygon in polygons_large), out_shape=image.shape[:2])\n",
    "mask_small_buildings = features.rasterize(((wkt.loads(polygon), (1)) for polygon in polygons_small), out_shape=image.shape[:2])"
   ]
  },
  {
   "cell_type": "code",
   "execution_count": null,
   "id": "d4f279f5-d616-4c36-8371-4825129bae9b",
   "metadata": {},
   "outputs": [],
   "source": [
    "mask = np.ones((image.shape[0], image.shape[1], 3) , dtype=np.uint8) * 255"
   ]
  },
  {
   "cell_type": "code",
   "execution_count": null,
   "id": "f5682190-f26b-46a7-beb0-223a663f8e44",
   "metadata": {},
   "outputs": [],
   "source": [
    "mask[mask_large_buildings == 1] = [36, 110, 12]\n",
    "mask[mask_small_buildings == 1] = [150, 17, 17]"
   ]
  },
  {
   "cell_type": "code",
   "execution_count": null,
   "id": "a6c7c648-fa7d-44a4-a5ea-770dfb145570",
   "metadata": {},
   "outputs": [],
   "source": [
    "# mask[:, :, 0][mask_small_buildings == 1] = 221\n",
    "# mask[:, :, 1][mask_large_buildings == 1] = 221"
   ]
  },
  {
   "cell_type": "code",
   "execution_count": null,
   "id": "7e13eea5-523c-4ac7-8d46-1800cac6d845",
   "metadata": {},
   "outputs": [],
   "source": [
    "fig, ax = plt.subplots(figsize=(24, 24))\n",
    "\n",
    "plt.imshow(image)\n",
    "plt.imshow(mask, alpha=0.4)\n",
    "\n",
    "ax.get_xaxis().set_visible(False)\n",
    "ax.get_yaxis().set_visible(False)\n",
    "\n",
    "ax.set_axis_off()\n",
    "\n",
    "\n",
    "plt.savefig(output_image, bbox_inches='tight')"
   ]
  },
  {
   "cell_type": "code",
   "execution_count": null,
   "id": "9426d8fc-465c-4440-86af-848767f35e81",
   "metadata": {},
   "outputs": [],
   "source": [
    "fig, ax = plt.subplots(1, 2, figsize=(24, 12), gridspec_kw = {'wspace':0, 'hspace':0})\n",
    "\n",
    "ax[0].imshow(image)\n",
    "ax[0].set_axis_off()\n",
    "\n",
    "ax[1].imshow(mask)\n",
    "\n",
    "ax[0].get_xaxis().set_visible(False)\n",
    "ax[0].get_yaxis().set_visible(False)\n",
    "ax[1].get_xaxis().set_visible(False)\n",
    "ax[1].get_yaxis().set_visible(False)\n",
    "\n",
    "ax[1].set_axis_off()\n",
    "\n",
    "plt.savefig('_1.'.join(output_image.split('.')), bbox_inches='tight')"
   ]
  },
  {
   "cell_type": "code",
   "execution_count": null,
   "id": "3d0465ec-1f9d-4d6d-bc0e-5480ad7cbe6d",
   "metadata": {},
   "outputs": [],
   "source": []
  }
 ],
 "metadata": {
  "kernelspec": {
   "display_name": "Python 3 (ipykernel)",
   "language": "python",
   "name": "python3"
  },
  "language_info": {
   "codemirror_mode": {
    "name": "ipython",
    "version": 3
   },
   "file_extension": ".py",
   "mimetype": "text/x-python",
   "name": "python",
   "nbconvert_exporter": "python",
   "pygments_lexer": "ipython3",
   "version": "3.12.2"
  }
 },
 "nbformat": 4,
 "nbformat_minor": 5
}
