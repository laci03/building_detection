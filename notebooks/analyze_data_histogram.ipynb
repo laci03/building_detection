{
 "cells": [
  {
   "cell_type": "code",
   "execution_count": null,
   "id": "dfd39f1a-d836-466c-953b-3cbabab4df8d",
   "metadata": {},
   "outputs": [],
   "source": [
    "import sys\n",
    "\n",
    "import rasterio as rio\n",
    "import pandas as pd\n",
    "\n",
    "import matplotlib.pyplot as plt\n",
    "from tqdm import tqdm\n",
    "\n",
    "from pathlib import Path\n",
    "\n",
    "import numpy as np"
   ]
  },
  {
   "cell_type": "markdown",
   "id": "6c5690c9-55c5-4de9-a223-2cc4c0d6cc97",
   "metadata": {},
   "source": [
    "### Config"
   ]
  },
  {
   "cell_type": "code",
   "execution_count": null,
   "id": "af9012ce-ee28-4146-b70d-fa3cfa08449a",
   "metadata": {},
   "outputs": [],
   "source": [
    "dataset_path = Path('../../change_detection_dataset/SN7_buildings/train')\n",
    "\n",
    "train_df_path = '../../change_detection_dataset/dataset_1/train.csv'\n",
    "valid_df_path = '../../change_detection_dataset/dataset_1/valid.csv'\n",
    "test_df_path = '../../change_detection_dataset/dataset_1/test.csv'"
   ]
  },
  {
   "cell_type": "code",
   "execution_count": null,
   "id": "c7e6a8ea-6dbb-4592-b706-5f478a6f932c",
   "metadata": {},
   "outputs": [],
   "source": [
    "def get_histogram(df_path):\n",
    "    df = pd.read_csv(df_path, index_col=0)\n",
    "    df = df[['AOI_name', 'filename']].drop_duplicates()\n",
    "    \n",
    "    no_of_pixels = 0\n",
    "    rgb_freq = np.zeros((3, 255), dtype=np.float32)\n",
    "    \n",
    "    for _, row in tqdm(df.iterrows()):\n",
    "        AOI_name, file_name = row\n",
    "        image_path = dataset_path / AOI_name / 'images_masked' / '{}.tif'.format(file_name)\n",
    "        \n",
    "        r = rio.open(image_path).read()\n",
    "    \n",
    "        image = r.transpose((1, 2, 0))[:, :, :-1]\n",
    "        freq = image[(image != [0, 0, 0]).any(axis=-1)]\n",
    "        \n",
    "        no_of_pixels += freq.shape[0]\n",
    "        \n",
    "        rgb_freq[0] += np.histogram(freq[:, 0], bins=255, range=(0, 255))[0]\n",
    "        rgb_freq[1] += np.histogram(freq[:, 1], bins=255, range=(0, 255))[0]\n",
    "        rgb_freq[2] += np.histogram(freq[:, 2], bins=255, range=(0, 255))[0]\n",
    "    \n",
    "    rgb_freq = rgb_freq / no_of_pixels\n",
    "\n",
    "    return rgb_freq"
   ]
  },
  {
   "cell_type": "code",
   "execution_count": null,
   "id": "fea8d34b-e1e5-48d7-9e7b-d028621f23c4",
   "metadata": {},
   "outputs": [],
   "source": [
    "train_hist = get_histogram(train_df_path)\n",
    "valid_hist = get_histogram(valid_df_path)\n",
    "test_hist = get_histogram(test_df_path)"
   ]
  },
  {
   "cell_type": "code",
   "execution_count": null,
   "id": "14d76d48-56ba-46db-9e7d-f8b33fa33e1e",
   "metadata": {},
   "outputs": [],
   "source": [
    "fig, axs = plt.subplots()\n",
    "\n",
    "plt.plot(train_hist[0], color='r')\n",
    "plt.plot(train_hist[1], color='g')\n",
    "plt.plot(train_hist[2], color='b')\n",
    "\n",
    "plt.plot(valid_hist[0], color='r', linestyle='--')\n",
    "plt.plot(valid_hist[1], color='g', linestyle='--')\n",
    "plt.plot(valid_hist[2], color='b', linestyle='--')\n",
    "\n",
    "plt.plot(test_hist[0], color='r', linestyle=':')\n",
    "plt.plot(test_hist[1], color='g', linestyle=':')\n",
    "plt.plot(test_hist[2], color='b', linestyle=':')"
   ]
  },
  {
   "cell_type": "markdown",
   "id": "b07e4473-6e18-4539-a7ec-01fe460b3532",
   "metadata": {},
   "source": [
    "### Train"
   ]
  },
  {
   "cell_type": "code",
   "execution_count": null,
   "id": "2d3dd315-dfae-4c98-b9ff-d75a6fc1311a",
   "metadata": {},
   "outputs": [],
   "source": [
    "fig, axs = plt.subplots()\n",
    "\n",
    "plt.plot(train_hist[0], color='r')\n",
    "plt.plot(train_hist[1], color='g')\n",
    "plt.plot(train_hist[2], color='b')"
   ]
  },
  {
   "cell_type": "markdown",
   "id": "3e66b5aa-d645-4487-aaa2-04a2c227d612",
   "metadata": {},
   "source": [
    "### Valid"
   ]
  },
  {
   "cell_type": "code",
   "execution_count": null,
   "id": "7b156f29-4026-4c32-bc8f-386daf2303da",
   "metadata": {},
   "outputs": [],
   "source": [
    "fig, axs = plt.subplots()\n",
    "\n",
    "plt.plot(valid_hist[0], color='r')\n",
    "plt.plot(valid_hist[1], color='g')\n",
    "plt.plot(valid_hist[2], color='b')"
   ]
  },
  {
   "cell_type": "markdown",
   "id": "44a156a3-aa23-4c12-be06-96bbe02b0412",
   "metadata": {},
   "source": [
    "### Test"
   ]
  },
  {
   "cell_type": "code",
   "execution_count": null,
   "id": "17fd4208-12ce-4894-be27-a122297ca2ec",
   "metadata": {},
   "outputs": [],
   "source": [
    "fig, axs = plt.subplots()\n",
    "\n",
    "plt.plot(test_hist[0], color='r')\n",
    "plt.plot(test_hist[1], color='g')\n",
    "plt.plot(test_hist[2], color='b')"
   ]
  },
  {
   "cell_type": "code",
   "execution_count": null,
   "id": "d6089df3-70fe-42c0-a9af-ab1ad0eb9f5f",
   "metadata": {},
   "outputs": [],
   "source": []
  }
 ],
 "metadata": {
  "kernelspec": {
   "display_name": "Python 3 (ipykernel)",
   "language": "python",
   "name": "python3"
  },
  "language_info": {
   "codemirror_mode": {
    "name": "ipython",
    "version": 3
   },
   "file_extension": ".py",
   "mimetype": "text/x-python",
   "name": "python",
   "nbconvert_exporter": "python",
   "pygments_lexer": "ipython3",
   "version": "3.12.2"
  }
 },
 "nbformat": 4,
 "nbformat_minor": 5
}
