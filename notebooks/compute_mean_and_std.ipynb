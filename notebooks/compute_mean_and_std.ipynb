{
 "cells": [
  {
   "cell_type": "code",
   "execution_count": null,
   "id": "f246622f-3894-4708-b032-c0876d6c59a9",
   "metadata": {},
   "outputs": [],
   "source": [
    "import sys\n",
    "\n",
    "import rasterio as rio\n",
    "import pandas as pd\n",
    "\n",
    "import matplotlib.pyplot as plt\n",
    "from tqdm import tqdm\n",
    "\n",
    "from pathlib import Path\n",
    "\n",
    "import numpy as np"
   ]
  },
  {
   "cell_type": "markdown",
   "id": "ef5366cd-c464-465c-ba7c-ff1ff9295400",
   "metadata": {},
   "source": [
    "### Config"
   ]
  },
  {
   "cell_type": "code",
   "execution_count": null,
   "id": "5ed0bcc2-fdd4-4488-a0d5-2d843b25a554",
   "metadata": {},
   "outputs": [],
   "source": [
    "dataset_path = Path('../../change_detection_dataset/SN7_buildings/train')\n",
    "\n",
    "train_df = '../../building_detection_dataset/dataset_2/train.csv'"
   ]
  },
  {
   "cell_type": "markdown",
   "id": "54b69327-162e-430f-aa45-92e22aeecee5",
   "metadata": {},
   "source": [
    "### Function"
   ]
  },
  {
   "cell_type": "markdown",
   "id": "2ce16278-338e-48b4-adb8-c92a5d757edd",
   "metadata": {},
   "source": [
    "### Create datasets"
   ]
  },
  {
   "cell_type": "code",
   "execution_count": null,
   "id": "4cb53b21-4dfc-46d0-a847-59ef86fa622b",
   "metadata": {},
   "outputs": [],
   "source": [
    "df = pd.read_csv(train_df, index_col=0)\n",
    "df = df[['AOI_name', 'filename']].drop_duplicates()"
   ]
  },
  {
   "cell_type": "code",
   "execution_count": null,
   "id": "d83dfc29-a493-4ec0-86d3-048ef6bdd3dd",
   "metadata": {},
   "outputs": [],
   "source": [
    "df"
   ]
  },
  {
   "cell_type": "code",
   "execution_count": null,
   "id": "5a688cd0-15b0-4173-897a-602f14221695",
   "metadata": {},
   "outputs": [],
   "source": [
    "rgb_sum = np.array([0, 0, 0], dtype=np.uint64)\n",
    "no_of_pixels = 0\n",
    "\n",
    "for _, row in tqdm(df.iterrows()):\n",
    "    AOI_name, file_name = row\n",
    "    image_path = dataset_path / AOI_name / 'images_masked' / '{}.tif'.format(file_name)\n",
    "\n",
    "    r = rio.open(image_path).read()\n",
    "\n",
    "    image = r.transpose((1, 2, 0))[:, :, :-1]\n",
    "    rgb_sum += image.sum(axis=(0, 1))\n",
    "\n",
    "    no_of_pixels += (image != [0, 0, 0]).any(axis=-1).sum()\n",
    "\n",
    "rgb_mean = rgb_sum / no_of_pixels\n",
    "rgb_mean"
   ]
  },
  {
   "cell_type": "code",
   "execution_count": null,
   "id": "cbe0e645-4653-447d-bba6-d1960ebd542f",
   "metadata": {},
   "outputs": [],
   "source": [
    "rgb_variance = np.array([0, 0, 0], dtype=np.float64)\n",
    "\n",
    "for _, row in tqdm(df.iterrows()):\n",
    "    AOI_name, file_name = row\n",
    "    image_path = dataset_path / AOI_name / 'images_masked' / '{}.tif'.format(file_name)\n",
    "\n",
    "    r = rio.open(image_path).read()\n",
    "\n",
    "    image = r.transpose((1, 2, 0))[:, :, :-1]\n",
    "\n",
    "    rgb_variance += (((image - rgb_mean) * (image != [0, 0, 0]).any(axis=-1)[:, :, None]) ** 2).sum(axis=(0, 1)) / no_of_pixels\n",
    "\n",
    "rgb_variance"
   ]
  },
  {
   "cell_type": "code",
   "execution_count": null,
   "id": "a8260533-3936-4eb3-8c50-58ae16608b78",
   "metadata": {},
   "outputs": [],
   "source": [
    "std = rgb_variance ** 0.5\n",
    "std"
   ]
  },
  {
   "cell_type": "markdown",
   "id": "f4de4744-72ac-4afe-8088-033cc0b14789",
   "metadata": {},
   "source": [
    "### checks"
   ]
  },
  {
   "cell_type": "code",
   "execution_count": null,
   "id": "280fdd1d-74b1-4cbf-9196-fbfdd52479db",
   "metadata": {},
   "outputs": [],
   "source": [
    "aux_rgb_sum = np.array([0, 0, 0], dtype=np.float64)\n",
    "\n",
    "for _, row in tqdm(df.iterrows()):\n",
    "    AOI_name, file_name = row\n",
    "    image_path = dataset_path / AOI_name / 'images_masked' / '{}.tif'.format(file_name)\n",
    "\n",
    "    r = rio.open(image_path).read()\n",
    "\n",
    "    image = r.transpose((1, 2, 0))[:, :, :-1]\n",
    "    aux_rgb_sum += (((image - rgb_mean)*(image != [0, 0, 0]).any(axis=-1)[:, :, None])/std).sum(axis=(0, 1))\n",
    "\n",
    "aux_rgb_mean = aux_rgb_sum / no_of_pixels\n",
    "aux_rgb_mean"
   ]
  },
  {
   "cell_type": "code",
   "execution_count": null,
   "id": "985f928c-38bd-4ef5-b251-b30c3d6b64ee",
   "metadata": {},
   "outputs": [],
   "source": [
    "aux_rgb_variance = np.array([0, 0, 0], dtype=np.float64)\n",
    "\n",
    "for _, row in tqdm(df.iterrows()):\n",
    "    AOI_name, file_name = row\n",
    "    image_path = dataset_path / AOI_name / 'images' / '{}.tif'.format(file_name)\n",
    "\n",
    "    r = rio.open(image_path).read()\n",
    "\n",
    "    image = r.transpose((1, 2, 0))[:, :, :-1]\n",
    "\n",
    "    aux_rgb_variance += ((((image - rgb_mean) / std) * (image != [0, 0, 0]).any(axis=-1)[:, :, None]) ** 2).sum(axis=(0, 1)) / no_of_pixels\n",
    "\n",
    "aux_std = aux_rgb_variance ** 0.5\n",
    "aux_std"
   ]
  },
  {
   "cell_type": "code",
   "execution_count": null,
   "id": "c0878f3a-2694-4a06-8dd7-b2363f0e93f3",
   "metadata": {},
   "outputs": [],
   "source": []
  }
 ],
 "metadata": {
  "kernelspec": {
   "display_name": "Python 3 (ipykernel)",
   "language": "python",
   "name": "python3"
  },
  "language_info": {
   "codemirror_mode": {
    "name": "ipython",
    "version": 3
   },
   "file_extension": ".py",
   "mimetype": "text/x-python",
   "name": "python",
   "nbconvert_exporter": "python",
   "pygments_lexer": "ipython3",
   "version": "3.12.2"
  }
 },
 "nbformat": 4,
 "nbformat_minor": 5
}
